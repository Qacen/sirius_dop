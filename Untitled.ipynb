{
 "cells": [
  {
   "cell_type": "code",
   "execution_count": 17,
   "id": "b2b685a6-1b71-46a5-8585-0c762c229d9e",
   "metadata": {},
   "outputs": [
    {
     "data": {
      "text/html": [
       "<div>\n",
       "<style scoped>\n",
       "    .dataframe tbody tr th:only-of-type {\n",
       "        vertical-align: middle;\n",
       "    }\n",
       "\n",
       "    .dataframe tbody tr th {\n",
       "        vertical-align: top;\n",
       "    }\n",
       "\n",
       "    .dataframe thead th {\n",
       "        text-align: right;\n",
       "    }\n",
       "</style>\n",
       "<table border=\"1\" class=\"dataframe\">\n",
       "  <thead>\n",
       "    <tr style=\"text-align: right;\">\n",
       "      <th></th>\n",
       "      <th>id</th>\n",
       "      <th>timestamp</th>\n",
       "      <th>full_sq</th>\n",
       "      <th>life_sq</th>\n",
       "      <th>floor</th>\n",
       "      <th>max_floor</th>\n",
       "      <th>material</th>\n",
       "      <th>build_year</th>\n",
       "      <th>num_room</th>\n",
       "      <th>kitch_sq</th>\n",
       "      <th>...</th>\n",
       "      <th>cafe_count_5000_price_2500</th>\n",
       "      <th>cafe_count_5000_price_4000</th>\n",
       "      <th>cafe_count_5000_price_high</th>\n",
       "      <th>big_church_count_5000</th>\n",
       "      <th>church_count_5000</th>\n",
       "      <th>mosque_count_5000</th>\n",
       "      <th>leisure_count_5000</th>\n",
       "      <th>sport_count_5000</th>\n",
       "      <th>market_count_5000</th>\n",
       "      <th>price_doc</th>\n",
       "    </tr>\n",
       "  </thead>\n",
       "  <tbody>\n",
       "    <tr>\n",
       "      <th>0</th>\n",
       "      <td>1</td>\n",
       "      <td>2011-08-20</td>\n",
       "      <td>43</td>\n",
       "      <td>27.0</td>\n",
       "      <td>4.0</td>\n",
       "      <td>NaN</td>\n",
       "      <td>NaN</td>\n",
       "      <td>NaN</td>\n",
       "      <td>NaN</td>\n",
       "      <td>NaN</td>\n",
       "      <td>...</td>\n",
       "      <td>9</td>\n",
       "      <td>4</td>\n",
       "      <td>0</td>\n",
       "      <td>13</td>\n",
       "      <td>22</td>\n",
       "      <td>1</td>\n",
       "      <td>0</td>\n",
       "      <td>52</td>\n",
       "      <td>4</td>\n",
       "      <td>5850000</td>\n",
       "    </tr>\n",
       "    <tr>\n",
       "      <th>1</th>\n",
       "      <td>2</td>\n",
       "      <td>2011-08-23</td>\n",
       "      <td>34</td>\n",
       "      <td>19.0</td>\n",
       "      <td>3.0</td>\n",
       "      <td>NaN</td>\n",
       "      <td>NaN</td>\n",
       "      <td>NaN</td>\n",
       "      <td>NaN</td>\n",
       "      <td>NaN</td>\n",
       "      <td>...</td>\n",
       "      <td>15</td>\n",
       "      <td>3</td>\n",
       "      <td>0</td>\n",
       "      <td>15</td>\n",
       "      <td>29</td>\n",
       "      <td>1</td>\n",
       "      <td>10</td>\n",
       "      <td>66</td>\n",
       "      <td>14</td>\n",
       "      <td>6000000</td>\n",
       "    </tr>\n",
       "    <tr>\n",
       "      <th>2</th>\n",
       "      <td>3</td>\n",
       "      <td>2011-08-27</td>\n",
       "      <td>43</td>\n",
       "      <td>29.0</td>\n",
       "      <td>2.0</td>\n",
       "      <td>NaN</td>\n",
       "      <td>NaN</td>\n",
       "      <td>NaN</td>\n",
       "      <td>NaN</td>\n",
       "      <td>NaN</td>\n",
       "      <td>...</td>\n",
       "      <td>10</td>\n",
       "      <td>3</td>\n",
       "      <td>0</td>\n",
       "      <td>11</td>\n",
       "      <td>27</td>\n",
       "      <td>0</td>\n",
       "      <td>4</td>\n",
       "      <td>67</td>\n",
       "      <td>10</td>\n",
       "      <td>5700000</td>\n",
       "    </tr>\n",
       "    <tr>\n",
       "      <th>3</th>\n",
       "      <td>4</td>\n",
       "      <td>2011-09-01</td>\n",
       "      <td>89</td>\n",
       "      <td>50.0</td>\n",
       "      <td>9.0</td>\n",
       "      <td>NaN</td>\n",
       "      <td>NaN</td>\n",
       "      <td>NaN</td>\n",
       "      <td>NaN</td>\n",
       "      <td>NaN</td>\n",
       "      <td>...</td>\n",
       "      <td>11</td>\n",
       "      <td>2</td>\n",
       "      <td>1</td>\n",
       "      <td>4</td>\n",
       "      <td>4</td>\n",
       "      <td>0</td>\n",
       "      <td>0</td>\n",
       "      <td>26</td>\n",
       "      <td>3</td>\n",
       "      <td>13100000</td>\n",
       "    </tr>\n",
       "    <tr>\n",
       "      <th>4</th>\n",
       "      <td>5</td>\n",
       "      <td>2011-09-05</td>\n",
       "      <td>77</td>\n",
       "      <td>77.0</td>\n",
       "      <td>4.0</td>\n",
       "      <td>NaN</td>\n",
       "      <td>NaN</td>\n",
       "      <td>NaN</td>\n",
       "      <td>NaN</td>\n",
       "      <td>NaN</td>\n",
       "      <td>...</td>\n",
       "      <td>319</td>\n",
       "      <td>108</td>\n",
       "      <td>17</td>\n",
       "      <td>135</td>\n",
       "      <td>236</td>\n",
       "      <td>2</td>\n",
       "      <td>91</td>\n",
       "      <td>195</td>\n",
       "      <td>14</td>\n",
       "      <td>16331452</td>\n",
       "    </tr>\n",
       "    <tr>\n",
       "      <th>...</th>\n",
       "      <td>...</td>\n",
       "      <td>...</td>\n",
       "      <td>...</td>\n",
       "      <td>...</td>\n",
       "      <td>...</td>\n",
       "      <td>...</td>\n",
       "      <td>...</td>\n",
       "      <td>...</td>\n",
       "      <td>...</td>\n",
       "      <td>...</td>\n",
       "      <td>...</td>\n",
       "      <td>...</td>\n",
       "      <td>...</td>\n",
       "      <td>...</td>\n",
       "      <td>...</td>\n",
       "      <td>...</td>\n",
       "      <td>...</td>\n",
       "      <td>...</td>\n",
       "      <td>...</td>\n",
       "      <td>...</td>\n",
       "      <td>...</td>\n",
       "    </tr>\n",
       "    <tr>\n",
       "      <th>30466</th>\n",
       "      <td>30469</td>\n",
       "      <td>2015-06-30</td>\n",
       "      <td>44</td>\n",
       "      <td>27.0</td>\n",
       "      <td>7.0</td>\n",
       "      <td>9.0</td>\n",
       "      <td>1.0</td>\n",
       "      <td>1975.0</td>\n",
       "      <td>2.0</td>\n",
       "      <td>6.0</td>\n",
       "      <td>...</td>\n",
       "      <td>15</td>\n",
       "      <td>5</td>\n",
       "      <td>0</td>\n",
       "      <td>15</td>\n",
       "      <td>26</td>\n",
       "      <td>1</td>\n",
       "      <td>2</td>\n",
       "      <td>84</td>\n",
       "      <td>6</td>\n",
       "      <td>7400000</td>\n",
       "    </tr>\n",
       "    <tr>\n",
       "      <th>30467</th>\n",
       "      <td>30470</td>\n",
       "      <td>2015-06-30</td>\n",
       "      <td>86</td>\n",
       "      <td>59.0</td>\n",
       "      <td>3.0</td>\n",
       "      <td>9.0</td>\n",
       "      <td>2.0</td>\n",
       "      <td>1935.0</td>\n",
       "      <td>4.0</td>\n",
       "      <td>10.0</td>\n",
       "      <td>...</td>\n",
       "      <td>313</td>\n",
       "      <td>128</td>\n",
       "      <td>24</td>\n",
       "      <td>98</td>\n",
       "      <td>182</td>\n",
       "      <td>1</td>\n",
       "      <td>82</td>\n",
       "      <td>171</td>\n",
       "      <td>15</td>\n",
       "      <td>25000000</td>\n",
       "    </tr>\n",
       "    <tr>\n",
       "      <th>30468</th>\n",
       "      <td>30471</td>\n",
       "      <td>2015-06-30</td>\n",
       "      <td>45</td>\n",
       "      <td>NaN</td>\n",
       "      <td>10.0</td>\n",
       "      <td>20.0</td>\n",
       "      <td>1.0</td>\n",
       "      <td>NaN</td>\n",
       "      <td>1.0</td>\n",
       "      <td>1.0</td>\n",
       "      <td>...</td>\n",
       "      <td>1</td>\n",
       "      <td>1</td>\n",
       "      <td>0</td>\n",
       "      <td>2</td>\n",
       "      <td>12</td>\n",
       "      <td>0</td>\n",
       "      <td>1</td>\n",
       "      <td>11</td>\n",
       "      <td>1</td>\n",
       "      <td>6970959</td>\n",
       "    </tr>\n",
       "    <tr>\n",
       "      <th>30469</th>\n",
       "      <td>30472</td>\n",
       "      <td>2015-06-30</td>\n",
       "      <td>64</td>\n",
       "      <td>32.0</td>\n",
       "      <td>5.0</td>\n",
       "      <td>15.0</td>\n",
       "      <td>1.0</td>\n",
       "      <td>2003.0</td>\n",
       "      <td>2.0</td>\n",
       "      <td>11.0</td>\n",
       "      <td>...</td>\n",
       "      <td>22</td>\n",
       "      <td>1</td>\n",
       "      <td>1</td>\n",
       "      <td>6</td>\n",
       "      <td>31</td>\n",
       "      <td>1</td>\n",
       "      <td>4</td>\n",
       "      <td>65</td>\n",
       "      <td>7</td>\n",
       "      <td>13500000</td>\n",
       "    </tr>\n",
       "    <tr>\n",
       "      <th>30470</th>\n",
       "      <td>30473</td>\n",
       "      <td>2015-06-30</td>\n",
       "      <td>43</td>\n",
       "      <td>28.0</td>\n",
       "      <td>1.0</td>\n",
       "      <td>9.0</td>\n",
       "      <td>1.0</td>\n",
       "      <td>1968.0</td>\n",
       "      <td>2.0</td>\n",
       "      <td>6.0</td>\n",
       "      <td>...</td>\n",
       "      <td>5</td>\n",
       "      <td>2</td>\n",
       "      <td>0</td>\n",
       "      <td>7</td>\n",
       "      <td>16</td>\n",
       "      <td>0</td>\n",
       "      <td>9</td>\n",
       "      <td>54</td>\n",
       "      <td>10</td>\n",
       "      <td>5600000</td>\n",
       "    </tr>\n",
       "  </tbody>\n",
       "</table>\n",
       "<p>30471 rows × 292 columns</p>\n",
       "</div>"
      ],
      "text/plain": [
       "          id   timestamp  full_sq  life_sq  floor  max_floor  material  \\\n",
       "0          1  2011-08-20       43     27.0    4.0        NaN       NaN   \n",
       "1          2  2011-08-23       34     19.0    3.0        NaN       NaN   \n",
       "2          3  2011-08-27       43     29.0    2.0        NaN       NaN   \n",
       "3          4  2011-09-01       89     50.0    9.0        NaN       NaN   \n",
       "4          5  2011-09-05       77     77.0    4.0        NaN       NaN   \n",
       "...      ...         ...      ...      ...    ...        ...       ...   \n",
       "30466  30469  2015-06-30       44     27.0    7.0        9.0       1.0   \n",
       "30467  30470  2015-06-30       86     59.0    3.0        9.0       2.0   \n",
       "30468  30471  2015-06-30       45      NaN   10.0       20.0       1.0   \n",
       "30469  30472  2015-06-30       64     32.0    5.0       15.0       1.0   \n",
       "30470  30473  2015-06-30       43     28.0    1.0        9.0       1.0   \n",
       "\n",
       "       build_year  num_room  kitch_sq  ...  cafe_count_5000_price_2500  \\\n",
       "0             NaN       NaN       NaN  ...                           9   \n",
       "1             NaN       NaN       NaN  ...                          15   \n",
       "2             NaN       NaN       NaN  ...                          10   \n",
       "3             NaN       NaN       NaN  ...                          11   \n",
       "4             NaN       NaN       NaN  ...                         319   \n",
       "...           ...       ...       ...  ...                         ...   \n",
       "30466      1975.0       2.0       6.0  ...                          15   \n",
       "30467      1935.0       4.0      10.0  ...                         313   \n",
       "30468         NaN       1.0       1.0  ...                           1   \n",
       "30469      2003.0       2.0      11.0  ...                          22   \n",
       "30470      1968.0       2.0       6.0  ...                           5   \n",
       "\n",
       "      cafe_count_5000_price_4000 cafe_count_5000_price_high  \\\n",
       "0                              4                          0   \n",
       "1                              3                          0   \n",
       "2                              3                          0   \n",
       "3                              2                          1   \n",
       "4                            108                         17   \n",
       "...                          ...                        ...   \n",
       "30466                          5                          0   \n",
       "30467                        128                         24   \n",
       "30468                          1                          0   \n",
       "30469                          1                          1   \n",
       "30470                          2                          0   \n",
       "\n",
       "       big_church_count_5000  church_count_5000  mosque_count_5000  \\\n",
       "0                         13                 22                  1   \n",
       "1                         15                 29                  1   \n",
       "2                         11                 27                  0   \n",
       "3                          4                  4                  0   \n",
       "4                        135                236                  2   \n",
       "...                      ...                ...                ...   \n",
       "30466                     15                 26                  1   \n",
       "30467                     98                182                  1   \n",
       "30468                      2                 12                  0   \n",
       "30469                      6                 31                  1   \n",
       "30470                      7                 16                  0   \n",
       "\n",
       "       leisure_count_5000  sport_count_5000  market_count_5000  price_doc  \n",
       "0                       0                52                  4    5850000  \n",
       "1                      10                66                 14    6000000  \n",
       "2                       4                67                 10    5700000  \n",
       "3                       0                26                  3   13100000  \n",
       "4                      91               195                 14   16331452  \n",
       "...                   ...               ...                ...        ...  \n",
       "30466                   2                84                  6    7400000  \n",
       "30467                  82               171                 15   25000000  \n",
       "30468                   1                11                  1    6970959  \n",
       "30469                   4                65                  7   13500000  \n",
       "30470                   9                54                 10    5600000  \n",
       "\n",
       "[30471 rows x 292 columns]"
      ]
     },
     "metadata": {},
     "output_type": "display_data"
    }
   ],
   "source": [
    "import pandas as pd\n",
    "df = pd.read_csv('train.csv')\n",
    "display(df)"
   ]
  },
  {
   "cell_type": "code",
   "execution_count": 8,
   "id": "7891f48d-c82b-49e7-b6bb-584c919652d9",
   "metadata": {},
   "outputs": [
    {
     "data": {
      "text/plain": [
       "<Axes: >"
      ]
     },
     "execution_count": 8,
     "metadata": {},
     "output_type": "execute_result"
    },
    {
     "data": {
      "image/png": "[encoded data removed]",
      "text/plain": [
       "<Figure size 2500x1000 with 2 Axes>"
      ]
     },
     "metadata": {},
     "output_type": "display_data"
    }
   ],
   "source": [
    "import missingno as msno\n",
    "msno.matrix(df)"
   ]
  },
  {
   "cell_type": "markdown",
   "id": "18904f2d-8350-4c05-b4a8-d8c12d5ba4bd",
   "metadata": {},
   "source": [
    "в датасете большое количество пустых ячеек"
   ]
  },
  {
   "cell_type": "code",
   "execution_count": 18,
   "id": "3a427938-5c01-479e-85af-59c183343c65",
   "metadata": {},
   "outputs": [],
   "source": [
    "\n",
    "df['diff'] = df['full_sq'] / df['life_sq']\n"
   ]
  },
  {
   "cell_type": "code",
   "execution_count": 42,
   "id": "829cdc65-7a89-48b5-b7df-b0b90e09015e",
   "metadata": {},
   "outputs": [
    {
     "data": {
      "text/plain": [
       "2.5475983277253214"
      ]
     },
     "execution_count": 42,
     "metadata": {},
     "output_type": "execute_result"
    }
   ],
   "source": [
    "import numpy as np\n",
    "(df[pd.notnull(df['diff'])]['diff']).replace(to_replace = np.inf,value = 2.5).mean(axis = 0)"
   ]
  },
  {
   "cell_type": "markdown",
   "id": "a72c2bd3-1c85-46b6-a0c9-8a7c85695b6a",
   "metadata": {},
   "source": [
    "2.546 - средняя разница в полной и жилой площади"
   ]
  },
  {
   "cell_type": "code",
   "execution_count": 53,
   "id": "e30cfc9c-60aa-4aa6-ad42-39cea7f2d17b",
   "metadata": {},
   "outputs": [],
   "source": [
    "df['div'] = round(df['full_sq']/2.546,1)\n",
    "df['div'].to_csv('testdiff.csv', sep=',', index=True, encoding='utf-8')\n",
    "df['life_sq'] = df['life_sq'].fillna(df['div'])"
   ]
  },
  {
   "cell_type": "code",
   "execution_count": 61,
   "id": "e7df2496-e597-4b4c-ac4e-b5c1ac4f17ec",
   "metadata": {},
   "outputs": [],
   "source": [
    "df.to_csv('train1.csv', sep=',', index=True, encoding='utf-8')"
   ]
  },
  {
   "cell_type": "code",
   "execution_count": null,
   "id": "73f5dc53-2832-4ce9-9b10-3fc7cd8ca831",
   "metadata": {},
   "outputs": [],
   "source": [
    "добавляем в пустые ячейки жилой площади, значения полной площади, разделенное на средний коэфицент между жилой и полной площадью"
   ]
  },
  {
   "cell_type": "code",
   "execution_count": 60,
   "id": "37e6aeb5-ec6a-46ed-8a5e-a2fa9ead5630",
   "metadata": {},
   "outputs": [],
   "source": [
    "import random\n",
    "df['floor_max'] = df['floor'] + random.randint(0,10)\n",
    "df['max_floor'] = df['max_floor'].fillna(df['floor_max'])"
   ]
  },
  {
   "cell_type": "markdown",
   "id": "411d69b6-5691-41b2-a6d3-e1c7cdbe8270",
   "metadata": {},
   "source": [
    "добавление отсутствующих значений этажности здания на основе этажа квартиры\n",
    "отстутствующий этаж квартиры вычислялся как среднее соседних элементов"
   ]
  },
  {
   "cell_type": "code",
   "execution_count": 62,
   "id": "43cb15af-749d-4131-bf8f-21f3249ef367",
   "metadata": {
    "scrolled": true
   },
   "outputs": [
    {
     "data": {
      "text/plain": [
       "<Axes: >"
      ]
     },
     "execution_count": 62,
     "metadata": {},
     "output_type": "execute_result"
    },
    {
     "data": {
      "image/png": "[encoded data removed]",
      "text/plain": [
       "<Figure size 2500x1000 with 2 Axes>"
      ]
     },
     "metadata": {},
     "output_type": "display_data"
    }
   ],
   "source": [
    "msno.matrix(df)"
   ]
  },
  {
   "cell_type": "code",
   "execution_count": 89,
   "id": "c935dec8-7b6a-4301-8313-f7102186f8a3",
   "metadata": {},
   "outputs": [],
   "source": [
    "df = pd.read_csv('train1.csv')"
   ]
  },
  {
   "cell_type": "code",
   "execution_count": 63,
   "id": "1e1c4d18-200c-4229-9493-0a6f6857046a",
   "metadata": {},
   "outputs": [
    {
     "data": {
      "text/plain": [
       "1.909804296856309"
      ]
     },
     "execution_count": 63,
     "metadata": {},
     "output_type": "execute_result"
    }
   ],
   "source": [
    "df['num_room'].mean()"
   ]
  },
  {
   "cell_type": "code",
   "execution_count": 90,
   "id": "818ce4dd-3133-4c51-ac83-5c1e8636dbdd",
   "metadata": {},
   "outputs": [],
   "source": [
    "df['num_room'] = df['num_room'].fillna(2)"
   ]
  },
  {
   "cell_type": "code",
   "execution_count": null,
   "id": "af92914e-0985-4b02-bdf8-bf3e0bda97b3",
   "metadata": {},
   "outputs": [],
   "source": [
    "замена отсутствующих на среднее значение"
   ]
  },
  {
   "cell_type": "code",
   "execution_count": 66,
   "id": "e4d6208e-135b-42c8-8c42-cd418f62a13a",
   "metadata": {},
   "outputs": [
    {
     "data": {
      "text/plain": [
       "0    1.0\n",
       "Name: material, dtype: float64"
      ]
     },
     "execution_count": 66,
     "metadata": {},
     "output_type": "execute_result"
    }
   ],
   "source": [
    "df['material'].mode()"
   ]
  },
  {
   "cell_type": "code",
   "execution_count": 91,
   "id": "ecda3dc1-0d32-4740-812f-3fdca7d4756a",
   "metadata": {},
   "outputs": [],
   "source": [
    "df['material'] = df['material'].fillna(1)"
   ]
  },
  {
   "cell_type": "code",
   "execution_count": null,
   "id": "effdfb08-c0e6-4e22-9d5f-6833ba823f08",
   "metadata": {},
   "outputs": [],
   "source": [
    "замена отсутствующих значений на среднее"
   ]
  },
  {
   "cell_type": "code",
   "execution_count": 72,
   "id": "594d9897-bc7f-45c5-b0f8-0afd15d2a3cb",
   "metadata": {},
   "outputs": [
    {
     "data": {
      "text/plain": [
       "0    2014.0\n",
       "Name: build_year, dtype: float64"
      ]
     },
     "execution_count": 72,
     "metadata": {},
     "output_type": "execute_result"
    }
   ],
   "source": [
    "df['build_year'].mode()"
   ]
  },
  {
   "cell_type": "code",
   "execution_count": 75,
   "id": "1e28cb0f-e139-4672-8fa9-5ba83767ea43",
   "metadata": {},
   "outputs": [
    {
     "name": "stdout",
     "output_type": "stream",
     "text": [
      "1970.0\n"
     ]
    }
   ],
   "source": [
    "value_counts = df['build_year'].value_counts()\n",
    "second_most_common_value = value_counts.index[4]\n",
    "print(second_most_common_value)"
   ]
  },
  {
   "cell_type": "code",
   "execution_count": 92,
   "id": "61424b1c-07fe-4129-a7e2-f5495e8a9ad3",
   "metadata": {},
   "outputs": [],
   "source": [
    "df['build_year']= df['build_year'].fillna(1970)"
   ]
  },
  {
   "cell_type": "code",
   "execution_count": null,
   "id": "b72bd40f-50fa-43ad-9187-0c9183447372",
   "metadata": {},
   "outputs": [],
   "source": [
    "замена отсутствующих значений на среднее"
   ]
  },
  {
   "cell_type": "code",
   "execution_count": 77,
   "id": "d239d82e-4de6-4610-bdc6-95cfdb45cdff",
   "metadata": {},
   "outputs": [
    {
     "data": {
      "text/plain": [
       "0    2.0\n",
       "Name: state, dtype: float64"
      ]
     },
     "execution_count": 77,
     "metadata": {},
     "output_type": "execute_result"
    }
   ],
   "source": [
    "df['state'].mode()"
   ]
  },
  {
   "cell_type": "code",
   "execution_count": 93,
   "id": "f5b49604-c3a6-4f99-8b1e-81e59015217c",
   "metadata": {},
   "outputs": [],
   "source": [
    "df['state'] = df['state'].fillna(2)"
   ]
  },
  {
   "cell_type": "code",
   "execution_count": null,
   "id": "c1f14ea0-dee3-4ab1-b07f-57f7bf14e61e",
   "metadata": {},
   "outputs": [],
   "source": [
    "замена отсутствующих значений на среднее"
   ]
  },
  {
   "cell_type": "code",
   "execution_count": 85,
   "id": "0cabcf28-caf3-4ab8-825d-103ed2bb52ef",
   "metadata": {},
   "outputs": [
    {
     "data": {
      "text/plain": [
       "19.52520404725157"
      ]
     },
     "execution_count": 85,
     "metadata": {},
     "output_type": "execute_result"
    }
   ],
   "source": [
    "\n",
    "df[\"dif2\"] = df['full_sq'] / df['kitch_sq']\n",
    "((df[pd.notnull(df['dif2'])]['dif2']).replace(to_replace = np.inf,value = np.nan)).mean(axis = 0)\n",
    "\n"
   ]
  },
  {
   "cell_type": "code",
   "execution_count": null,
   "id": "c5f8dc89-330f-41f5-b9c0-b244a8903190",
   "metadata": {},
   "outputs": [],
   "source": [
    "19.5 средний коэфицент общей площади и площади кухни"
   ]
  },
  {
   "cell_type": "code",
   "execution_count": 94,
   "id": "a1c2205b-9275-4499-9e44-1fc56d921900",
   "metadata": {},
   "outputs": [],
   "source": [
    "df['div2'] = round(df['full_sq']/19.5,1)\n",
    "#df['div2'].to_csv('testdiff.csv', sep=',', index=True, encoding='utf-8')\n",
    "df['kitch_sq'] = df['kitch_sq'].fillna(df['div2'])\n",
    "df.to_csv('train2.csv', sep=',', index=false, encoding='utf-8')"
   ]
  },
  {
   "cell_type": "code",
   "execution_count": null,
   "id": "17a2090a-fbd0-4f09-81ad-5e69ff7d2e00",
   "metadata": {},
   "outputs": [],
   "source": [
    "выводим отсутствующую площадь кухни по среднему коэфиценту между площадью кухни и общей площадью"
   ]
  },
  {
   "cell_type": "code",
   "execution_count": 96,
   "id": "9a9693d3-c84b-49e5-83a3-ef3d47ec656a",
   "metadata": {},
   "outputs": [
    {
     "data": {
      "text/plain": [
       "2.37843358678789"
      ]
     },
     "execution_count": 96,
     "metadata": {},
     "output_type": "execute_result"
    }
   ],
   "source": [
    "df[\"dif3\"] = df['children_preschool'] / df['preschool_quota']\n",
    "((df[pd.notnull(df['dif3'])]['dif3']).replace(to_replace = np.inf,value = np.nan)).mean(axis = 0)"
   ]
  },
  {
   "cell_type": "code",
   "execution_count": null,
   "id": "c5535f36-ebf4-4054-8da8-82f027042705",
   "metadata": {},
   "outputs": [],
   "source": [
    "2.38 средний коэфицент между дошкольниками и квотами для них"
   ]
  },
  {
   "cell_type": "code",
   "execution_count": 100,
   "id": "23939439-3a54-4e5e-a77c-7cf2d6aa88d0",
   "metadata": {},
   "outputs": [],
   "source": [
    "df['div3'] = round(df['children_preschool']/2.38,0)\n",
    "#df['div3'].to_csv('testdiff.csv', sep=',', index=True, encoding='utf-8')\n",
    "df['preschool_quota'] = df['preschool_quota'].fillna(df['div3'])"
   ]
  },
  {
   "cell_type": "code",
   "execution_count": null,
   "id": "1e9992b1-debf-4580-903a-9531d0ece206",
   "metadata": {},
   "outputs": [],
   "source": [
    "таким же образом выводим количество квот в дошкольные организации по среднему коэфиценту между дошкольниками и квотами для них"
   ]
  },
  {
   "cell_type": "code",
   "execution_count": 102,
   "id": "5b915abf-fbae-479d-bde9-f6dbf514fc12",
   "metadata": {},
   "outputs": [],
   "source": [
    "df.to_csv('train3.csv', sep=',', index=False, encoding='utf-8')"
   ]
  },
  {
   "cell_type": "code",
   "execution_count": 104,
   "id": "18fe49b1-821c-4a9c-a7fe-3ef0ea16e3f2",
   "metadata": {},
   "outputs": [
    {
     "data": {
      "text/plain": [
       "0.8294721177135483"
      ]
     },
     "execution_count": 104,
     "metadata": {},
     "output_type": "execute_result"
    }
   ],
   "source": [
    "df[\"dif4\"] = df['children_school'] / df['school_quota']\n",
    "((df[pd.notnull(df['dif4'])]['dif4']).replace(to_replace = np.inf,value = np.nan)).mean(axis = 0)"
   ]
  },
  {
   "cell_type": "code",
   "execution_count": 105,
   "id": "1cc6b9f7-1eab-457d-b8e7-dc72af93eed3",
   "metadata": {},
   "outputs": [
    {
     "data": {
      "text/plain": [
       "0.83"
      ]
     },
     "execution_count": 105,
     "metadata": {},
     "output_type": "execute_result"
    }
   ],
   "source": [
    "0.83 средний коэфицент между школьниками и квотами для них"
   ]
  },
  {
   "cell_type": "code",
   "execution_count": 107,
   "id": "b4edeffd-0157-4d4f-851e-10f25dbcdd17",
   "metadata": {},
   "outputs": [],
   "source": [
    "df['div4'] = round(df['children_school']/0.83,0)\n",
    "#df['div4'].to_csv('testdiff.csv', sep=',', index=True, encoding='utf-8')\n",
    "df['school_quota'] = df['school_quota'].fillna(df['div4'])"
   ]
  },
  {
   "cell_type": "code",
   "execution_count": null,
   "id": "c0baf220-8a49-41ab-8792-5c59e6c702fe",
   "metadata": {},
   "outputs": [],
   "source": [
    "выводим количество квот в школах по среднему коэфиценту между школьниками и квотами для них"
   ]
  },
  {
   "cell_type": "code",
   "execution_count": 108,
   "id": "f80d74ff-ba5b-47fd-a589-b705be147f05",
   "metadata": {},
   "outputs": [],
   "source": [
    "df.to_csv('train4.csv', sep=',', index=False, encoding='utf-8')"
   ]
  },
  {
   "cell_type": "code",
   "execution_count": 115,
   "id": "e0c17fe4-7843-4774-9c04-9362cf27f386",
   "metadata": {},
   "outputs": [],
   "source": [
    "df = df.drop(columns=['hospital_beds_raion'],axis = 1)"
   ]
  },
  {
   "cell_type": "code",
   "execution_count": null,
   "id": "b9d7c80a-d228-4949-b32f-950c9f190cc1",
   "metadata": {},
   "outputs": [],
   "source": [
    "слишком много пропущенных строк, лучше удалить весь столбец, при заполнении была бы слишком большая неточность"
   ]
  },
  {
   "cell_type": "code",
   "execution_count": 117,
   "id": "1716d94a-17ab-43cc-8cd2-732f2faaeb2a",
   "metadata": {},
   "outputs": [],
   "source": [
    "df.to_csv('train5.csv', sep=',', index=False, encoding='utf-8')"
   ]
  },
  {
   "cell_type": "code",
   "execution_count": 130,
   "id": "111d2676-9533-4b7d-8a34-65f3ebead8a4",
   "metadata": {},
   "outputs": [
    {
     "data": {
      "text/plain": [
       "<Axes: >"
      ]
     },
     "execution_count": 130,
     "metadata": {},
     "output_type": "execute_result"
    },
    {
     "data": {
      "image/png": "[encoded data removed]",
      "text/plain": [
       "<Figure size 2500x1000 with 2 Axes>"
      ]
     },
     "metadata": {},
     "output_type": "display_data"
    }
   ],
   "source": [
    "df = pd.read_csv('train5.csv')\n",
    "df.dropna(subset = ['raion_build_count_with_material_info'], inplace = True)\n",
    "df.to_csv('train6.csv', sep=',', index=False, encoding='utf-8')\n",
    "msno.matrix(df)"
   ]
  },
  {
   "cell_type": "code",
   "execution_count": null,
   "id": "72822e6e-e1e1-4c75-8ce7-f864b1d51392",
   "metadata": {},
   "outputs": [],
   "source": [
    "удаляем строки по количеству зданий района из разных типов материалов и периоду их постройки"
   ]
  },
  {
   "cell_type": "code",
   "execution_count": 131,
   "id": "9509ade1-493c-419a-bff2-95a8339ab630",
   "metadata": {},
   "outputs": [],
   "source": [
    "df.to_csv('train6.csv', sep=',', index=False, encoding='utf-8')"
   ]
  },
  {
   "cell_type": "code",
   "execution_count": 132,
   "id": "cac4a74a-bce7-467b-8cf2-092d824f489b",
   "metadata": {},
   "outputs": [],
   "source": [
    "df = df.drop(columns=['cafe_sum_500_min_price_avg','cafe_sum_500_max_price_avg','cafe_avg_price_500','cafe_sum_1000_min_price_avg','cafe_sum_1000_max_price_avg','cafe_avg_price_1000'],axis = 1)"
   ]
  },
  {
   "cell_type": "code",
   "execution_count": 133,
   "id": "db28a51a-2e6d-4cee-a6e3-34ff3b6e0017",
   "metadata": {},
   "outputs": [],
   "source": [
    "df.to_csv('train7.csv', sep=',', index=False, encoding='utf-8')"
   ]
  },
  {
   "cell_type": "code",
   "execution_count": 137,
   "id": "608903ce-10d0-4648-862a-065e1e5d2e50",
   "metadata": {},
   "outputs": [],
   "source": [
    "df = df.drop(columns=['cafe_sum_1500_min_price_avg','cafe_sum_1500_max_price_avg','cafe_avg_price_1500','cafe_sum_2000_min_price_avg','cafe_sum_2000_max_price_avg','cafe_avg_price_2000'],axis = 1)"
   ]
  },
  {
   "cell_type": "markdown",
   "id": "ae9779cd-c53f-4a7f-a851-2de81d0f2919",
   "metadata": {},
   "source": [
    "удаляем столбцы про описание средних чеков кафе на определенном расстоянии, потому что слишком много пропусков"
   ]
  },
  {
   "cell_type": "code",
   "execution_count": 139,
   "id": "d57e9f45-df8f-4671-aac0-3d11968e6c1e",
   "metadata": {},
   "outputs": [],
   "source": [
    "df.dropna(subset = ['cafe_sum_3000_min_price_avg'], inplace = True)"
   ]
  },
  {
   "cell_type": "code",
   "execution_count": 140,
   "id": "6e9c1442-a93e-4e9a-b5ec-a510e9cf77b5",
   "metadata": {},
   "outputs": [],
   "source": [
    "df.dropna(subset = ['cafe_sum_5000_min_price_avg'], inplace = True)"
   ]
  },
  {
   "cell_type": "code",
   "execution_count": null,
   "id": "c60dd1b5-e908-4ada-a2b5-c7fb5602bb9d",
   "metadata": {},
   "outputs": [],
   "source": [
    "на расстоянии 3км, пропусков стало меньше, поэтому теперь убираем строчки"
   ]
  },
  {
   "cell_type": "code",
   "execution_count": null,
   "id": "f0524e55-8cae-4b74-a07c-69e8caa0f55d",
   "metadata": {},
   "outputs": [],
   "source": []
  },
  {
   "cell_type": "code",
   "execution_count": 145,
   "id": "9e002135-e7a3-4310-865c-bccb6c9e0e51",
   "metadata": {},
   "outputs": [
    {
     "ename": "KeyError",
     "evalue": "\"['diff', 'div', 'div2', 'floor_max', 'div3', 'div4', 'dif3', 'dif4'] not found in axis\"",
     "output_type": "error",
     "traceback": [
      "\u001b[1;31m---------------------------------------------------------------------------\u001b[0m",
      "\u001b[1;31mKeyError\u001b[0m                                  Traceback (most recent call last)",
      "Cell \u001b[1;32mIn[145], line 1\u001b[0m\n\u001b[1;32m----> 1\u001b[0m df \u001b[38;5;241m=\u001b[39m \u001b[43mdf\u001b[49m\u001b[38;5;241;43m.\u001b[39;49m\u001b[43mdrop\u001b[49m\u001b[43m(\u001b[49m\u001b[43mcolumns\u001b[49m\u001b[38;5;241;43m=\u001b[39;49m\u001b[43m[\u001b[49m\u001b[38;5;124;43m'\u001b[39;49m\u001b[38;5;124;43mdiff\u001b[39;49m\u001b[38;5;124;43m'\u001b[39;49m\u001b[43m,\u001b[49m\u001b[38;5;124;43m'\u001b[39;49m\u001b[38;5;124;43mdiv\u001b[39;49m\u001b[38;5;124;43m'\u001b[39;49m\u001b[43m,\u001b[49m\u001b[38;5;124;43m'\u001b[39;49m\u001b[38;5;124;43mdiv2\u001b[39;49m\u001b[38;5;124;43m'\u001b[39;49m\u001b[43m,\u001b[49m\u001b[38;5;124;43m'\u001b[39;49m\u001b[38;5;124;43mfloor_max\u001b[39;49m\u001b[38;5;124;43m'\u001b[39;49m\u001b[43m,\u001b[49m\u001b[38;5;124;43m'\u001b[39;49m\u001b[38;5;124;43mdiv3\u001b[39;49m\u001b[38;5;124;43m'\u001b[39;49m\u001b[43m,\u001b[49m\u001b[38;5;124;43m'\u001b[39;49m\u001b[38;5;124;43mdiv4\u001b[39;49m\u001b[38;5;124;43m'\u001b[39;49m\u001b[43m,\u001b[49m\u001b[38;5;124;43m'\u001b[39;49m\u001b[38;5;124;43mdif3\u001b[39;49m\u001b[38;5;124;43m'\u001b[39;49m\u001b[43m,\u001b[49m\u001b[38;5;124;43m'\u001b[39;49m\u001b[38;5;124;43mdif4\u001b[39;49m\u001b[38;5;124;43m'\u001b[39;49m\u001b[43m]\u001b[49m\u001b[43m,\u001b[49m\u001b[43maxis\u001b[49m\u001b[43m \u001b[49m\u001b[38;5;241;43m=\u001b[39;49m\u001b[43m \u001b[49m\u001b[38;5;241;43m1\u001b[39;49m\u001b[43m)\u001b[49m\n",
      "File \u001b[1;32m~\\AppData\\Local\\Programs\\Python\\Python311\\Lib\\site-packages\\pandas\\core\\frame.py:5568\u001b[0m, in \u001b[0;36mDataFrame.drop\u001b[1;34m(self, labels, axis, index, columns, level, inplace, errors)\u001b[0m\n\u001b[0;32m   5420\u001b[0m \u001b[38;5;28;01mdef\u001b[39;00m \u001b[38;5;21mdrop\u001b[39m(\n\u001b[0;32m   5421\u001b[0m     \u001b[38;5;28mself\u001b[39m,\n\u001b[0;32m   5422\u001b[0m     labels: IndexLabel \u001b[38;5;241m|\u001b[39m \u001b[38;5;28;01mNone\u001b[39;00m \u001b[38;5;241m=\u001b[39m \u001b[38;5;28;01mNone\u001b[39;00m,\n\u001b[1;32m   (...)\u001b[0m\n\u001b[0;32m   5429\u001b[0m     errors: IgnoreRaise \u001b[38;5;241m=\u001b[39m \u001b[38;5;124m\"\u001b[39m\u001b[38;5;124mraise\u001b[39m\u001b[38;5;124m\"\u001b[39m,\n\u001b[0;32m   5430\u001b[0m ) \u001b[38;5;241m-\u001b[39m\u001b[38;5;241m>\u001b[39m DataFrame \u001b[38;5;241m|\u001b[39m \u001b[38;5;28;01mNone\u001b[39;00m:\n\u001b[0;32m   5431\u001b[0m \u001b[38;5;250m    \u001b[39m\u001b[38;5;124;03m\"\"\"\u001b[39;00m\n\u001b[0;32m   5432\u001b[0m \u001b[38;5;124;03m    Drop specified labels from rows or columns.\u001b[39;00m\n\u001b[0;32m   5433\u001b[0m \n\u001b[1;32m   (...)\u001b[0m\n\u001b[0;32m   5566\u001b[0m \u001b[38;5;124;03m            weight  1.0     0.8\u001b[39;00m\n\u001b[0;32m   5567\u001b[0m \u001b[38;5;124;03m    \"\"\"\u001b[39;00m\n\u001b[1;32m-> 5568\u001b[0m     \u001b[38;5;28;01mreturn\u001b[39;00m \u001b[38;5;28;43msuper\u001b[39;49m\u001b[43m(\u001b[49m\u001b[43m)\u001b[49m\u001b[38;5;241;43m.\u001b[39;49m\u001b[43mdrop\u001b[49m\u001b[43m(\u001b[49m\n\u001b[0;32m   5569\u001b[0m \u001b[43m        \u001b[49m\u001b[43mlabels\u001b[49m\u001b[38;5;241;43m=\u001b[39;49m\u001b[43mlabels\u001b[49m\u001b[43m,\u001b[49m\n\u001b[0;32m   5570\u001b[0m \u001b[43m        \u001b[49m\u001b[43maxis\u001b[49m\u001b[38;5;241;43m=\u001b[39;49m\u001b[43maxis\u001b[49m\u001b[43m,\u001b[49m\n\u001b[0;32m   5571\u001b[0m \u001b[43m        \u001b[49m\u001b[43mindex\u001b[49m\u001b[38;5;241;43m=\u001b[39;49m\u001b[43mindex\u001b[49m\u001b[43m,\u001b[49m\n\u001b[0;32m   5572\u001b[0m \u001b[43m        \u001b[49m\u001b[43mcolumns\u001b[49m\u001b[38;5;241;43m=\u001b[39;49m\u001b[43mcolumns\u001b[49m\u001b[43m,\u001b[49m\n\u001b[0;32m   5573\u001b[0m \u001b[43m        \u001b[49m\u001b[43mlevel\u001b[49m\u001b[38;5;241;43m=\u001b[39;49m\u001b[43mlevel\u001b[49m\u001b[43m,\u001b[49m\n\u001b[0;32m   5574\u001b[0m \u001b[43m        \u001b[49m\u001b[43minplace\u001b[49m\u001b[38;5;241;43m=\u001b[39;49m\u001b[43minplace\u001b[49m\u001b[43m,\u001b[49m\n\u001b[0;32m   5575\u001b[0m \u001b[43m        \u001b[49m\u001b[43merrors\u001b[49m\u001b[38;5;241;43m=\u001b[39;49m\u001b[43merrors\u001b[49m\u001b[43m,\u001b[49m\n\u001b[0;32m   5576\u001b[0m \u001b[43m    \u001b[49m\u001b[43m)\u001b[49m\n",
      "File \u001b[1;32m~\\AppData\\Local\\Programs\\Python\\Python311\\Lib\\site-packages\\pandas\\core\\generic.py:4785\u001b[0m, in \u001b[0;36mNDFrame.drop\u001b[1;34m(self, labels, axis, index, columns, level, inplace, errors)\u001b[0m\n\u001b[0;32m   4783\u001b[0m \u001b[38;5;28;01mfor\u001b[39;00m axis, labels \u001b[38;5;129;01min\u001b[39;00m axes\u001b[38;5;241m.\u001b[39mitems():\n\u001b[0;32m   4784\u001b[0m     \u001b[38;5;28;01mif\u001b[39;00m labels \u001b[38;5;129;01mis\u001b[39;00m \u001b[38;5;129;01mnot\u001b[39;00m \u001b[38;5;28;01mNone\u001b[39;00m:\n\u001b[1;32m-> 4785\u001b[0m         obj \u001b[38;5;241m=\u001b[39m \u001b[43mobj\u001b[49m\u001b[38;5;241;43m.\u001b[39;49m\u001b[43m_drop_axis\u001b[49m\u001b[43m(\u001b[49m\u001b[43mlabels\u001b[49m\u001b[43m,\u001b[49m\u001b[43m \u001b[49m\u001b[43maxis\u001b[49m\u001b[43m,\u001b[49m\u001b[43m \u001b[49m\u001b[43mlevel\u001b[49m\u001b[38;5;241;43m=\u001b[39;49m\u001b[43mlevel\u001b[49m\u001b[43m,\u001b[49m\u001b[43m \u001b[49m\u001b[43merrors\u001b[49m\u001b[38;5;241;43m=\u001b[39;49m\u001b[43merrors\u001b[49m\u001b[43m)\u001b[49m\n\u001b[0;32m   4787\u001b[0m \u001b[38;5;28;01mif\u001b[39;00m inplace:\n\u001b[0;32m   4788\u001b[0m     \u001b[38;5;28mself\u001b[39m\u001b[38;5;241m.\u001b[39m_update_inplace(obj)\n",
      "File \u001b[1;32m~\\AppData\\Local\\Programs\\Python\\Python311\\Lib\\site-packages\\pandas\\core\\generic.py:4827\u001b[0m, in \u001b[0;36mNDFrame._drop_axis\u001b[1;34m(self, labels, axis, level, errors, only_slice)\u001b[0m\n\u001b[0;32m   4825\u001b[0m         new_axis \u001b[38;5;241m=\u001b[39m axis\u001b[38;5;241m.\u001b[39mdrop(labels, level\u001b[38;5;241m=\u001b[39mlevel, errors\u001b[38;5;241m=\u001b[39merrors)\n\u001b[0;32m   4826\u001b[0m     \u001b[38;5;28;01melse\u001b[39;00m:\n\u001b[1;32m-> 4827\u001b[0m         new_axis \u001b[38;5;241m=\u001b[39m \u001b[43maxis\u001b[49m\u001b[38;5;241;43m.\u001b[39;49m\u001b[43mdrop\u001b[49m\u001b[43m(\u001b[49m\u001b[43mlabels\u001b[49m\u001b[43m,\u001b[49m\u001b[43m \u001b[49m\u001b[43merrors\u001b[49m\u001b[38;5;241;43m=\u001b[39;49m\u001b[43merrors\u001b[49m\u001b[43m)\u001b[49m\n\u001b[0;32m   4828\u001b[0m     indexer \u001b[38;5;241m=\u001b[39m axis\u001b[38;5;241m.\u001b[39mget_indexer(new_axis)\n\u001b[0;32m   4830\u001b[0m \u001b[38;5;66;03m# Case for non-unique axis\u001b[39;00m\n\u001b[0;32m   4831\u001b[0m \u001b[38;5;28;01melse\u001b[39;00m:\n",
      "File \u001b[1;32m~\\AppData\\Local\\Programs\\Python\\Python311\\Lib\\site-packages\\pandas\\core\\indexes\\base.py:7070\u001b[0m, in \u001b[0;36mIndex.drop\u001b[1;34m(self, labels, errors)\u001b[0m\n\u001b[0;32m   7068\u001b[0m \u001b[38;5;28;01mif\u001b[39;00m mask\u001b[38;5;241m.\u001b[39many():\n\u001b[0;32m   7069\u001b[0m     \u001b[38;5;28;01mif\u001b[39;00m errors \u001b[38;5;241m!=\u001b[39m \u001b[38;5;124m\"\u001b[39m\u001b[38;5;124mignore\u001b[39m\u001b[38;5;124m\"\u001b[39m:\n\u001b[1;32m-> 7070\u001b[0m         \u001b[38;5;28;01mraise\u001b[39;00m \u001b[38;5;167;01mKeyError\u001b[39;00m(\u001b[38;5;124mf\u001b[39m\u001b[38;5;124m\"\u001b[39m\u001b[38;5;132;01m{\u001b[39;00mlabels[mask]\u001b[38;5;241m.\u001b[39mtolist()\u001b[38;5;132;01m}\u001b[39;00m\u001b[38;5;124m not found in axis\u001b[39m\u001b[38;5;124m\"\u001b[39m)\n\u001b[0;32m   7071\u001b[0m     indexer \u001b[38;5;241m=\u001b[39m indexer[\u001b[38;5;241m~\u001b[39mmask]\n\u001b[0;32m   7072\u001b[0m \u001b[38;5;28;01mreturn\u001b[39;00m \u001b[38;5;28mself\u001b[39m\u001b[38;5;241m.\u001b[39mdelete(indexer)\n",
      "\u001b[1;31mKeyError\u001b[0m: \"['diff', 'div', 'div2', 'floor_max', 'div3', 'div4', 'dif3', 'dif4'] not found in axis\""
     ]
    }
   ],
   "source": [
    "df = df.drop(columns=['diff','div','div2','floor_max','div3','div4','dif3','dif4','Unnamed: 0'],axis = 1)"
   ]
  },
  {
   "cell_type": "code",
   "execution_count": null,
   "id": "73cafcf9-81f4-4ad7-8ef8-0dedd2d5188d",
   "metadata": {},
   "outputs": [],
   "source": [
    "удаление вспомогательных столбцов"
   ]
  },
  {
   "cell_type": "code",
   "execution_count": 146,
   "id": "8141f754-f5f9-49e2-942e-29dd1fe57b12",
   "metadata": {},
   "outputs": [],
   "source": [
    "df.to_csv('train8.csv', sep=',', index=False, encoding='utf-8')"
   ]
  },
  {
   "cell_type": "code",
   "execution_count": 149,
   "id": "f45bf0b7-fb01-49b0-bccd-a7dc23dbc594",
   "metadata": {},
   "outputs": [
    {
     "data": {
      "image/png": "[encoded data removed]",
      "text/plain": [
       "<Figure size 2500x1000 with 2 Axes>"
      ]
     },
     "metadata": {},
     "output_type": "display_data"
    }
   ],
   "source": [
    "df.dropna(inplace = True)\n",
    "msno.matrix(df)"
   ]
  },
  {
   "cell_type": "code",
   "execution_count": null,
   "id": "9aa4b026-0dd2-4010-931c-45de1add8d56",
   "metadata": {},
   "outputs": [],
   "source": [
    "удаление оставшихся пустых ячеек, теперь датасет полностью заполнен"
   ]
  },
  {
   "cell_type": "code",
   "execution_count": 153,
   "id": "a25aa3cb-253f-4355-901e-9f2d5a4df688",
   "metadata": {},
   "outputs": [],
   "source": [
    "df = pd.read_csv('train8.csv')\n",
    "df['ecology'] = df['ecology'].replace('no data','good')\n",
    "df.to_csv('train9.csv', sep=',', index=False, encoding='utf-8')"
   ]
  },
  {
   "cell_type": "code",
   "execution_count": 159,
   "id": "438b6a45-17ce-4887-a68c-f7f018cab02f",
   "metadata": {},
   "outputs": [],
   "source": [
    "df = df.drop(columns=['young_male','young_female','work_male','work_female','ekder_male','ekder_female','0_6_all','0_6_male','0_6_female','7_14_all','7_14_male','7_14_female','0_17_all','0_17_male','0_17_female','16_29_all','16_29_male','16_29_female','0_13_all','0_13_male','0_13_female'],axis = 1)"
   ]
  },
  {
   "cell_type": "code",
   "execution_count": 160,
   "id": "cf0afc7f-4503-43aa-b465-01c87514b69c",
   "metadata": {},
   "outputs": [],
   "source": [
    "df.to_csv('train10.csv', sep=',', index=False, encoding='utf-8')"
   ]
  },
  {
   "cell_type": "code",
   "execution_count": null,
   "id": "9fbbae9e-7d52-44b4-953b-42ed3fa9e37c",
   "metadata": {},
   "outputs": [],
   "source": [
    "убираем лишние параметры, так как есть другие связанные с ними или они сами по себе несут слишком маленькое влияние на стоимость"
   ]
  },
  {
   "cell_type": "code",
   "execution_count": 176,
   "id": "c1a17adb-4a2b-4e32-b5e9-4a1f8caae014",
   "metadata": {},
   "outputs": [
    {
     "data": {
      "text/plain": [
       "id                         30473\n",
       "timestamp             2015-06-30\n",
       "full_sq                     5326\n",
       "life_sq                    802.0\n",
       "floor                       77.0\n",
       "                         ...    \n",
       "leisure_count_5000           106\n",
       "sport_count_5000             218\n",
       "market_count_5000             21\n",
       "price_doc              111111112\n",
       "zscore                 129.63662\n",
       "Length: 259, dtype: object"
      ]
     },
     "execution_count": 176,
     "metadata": {},
     "output_type": "execute_result"
    },
    {
     "data": {
      "image/png": "[encoded data removed]",
      "text/plain": [
       "<Figure size 640x480 with 1 Axes>"
      ]
     },
     "metadata": {},
     "output_type": "display_data"
    }
   ],
   "source": [
    "df['full_sq'].plot(kind='hist')\n",
    "df.max()"
   ]
  },
  {
   "cell_type": "code",
   "execution_count": null,
   "id": "950f54a3-6d62-4dd9-8165-35dd976970e3",
   "metadata": {},
   "outputs": [],
   "source": [
    "есть аномалии, например квартира с площадью 5326 квадратных метра"
   ]
  },
  {
   "cell_type": "code",
   "execution_count": 180,
   "id": "facff2cf-97d2-4109-aba2-1409b8d4e043",
   "metadata": {},
   "outputs": [],
   "source": [
    "df['zscore'] = (df['full_sq'] - df['full_sq'].mean())/df['full_sq'].std() \n",
    "df[(df['zscore'] > 3) | (df['zscore'] < -3)]\n",
    "new_df = df[(df['zscore'] < 3) & (df['zscore'] > -3)]\n",
    "new_df.to_csv('train11.csv', sep=',', index=False, encoding='utf-8')"
   ]
  },
  {
   "cell_type": "code",
   "execution_count": null,
   "id": "fdfba2b7-ecc1-4e74-8cff-75af6a01914d",
   "metadata": {},
   "outputs": [],
   "source": [
    "с помощью Z-оценки находим и удаляем аномалии"
   ]
  },
  {
   "cell_type": "code",
   "execution_count": 181,
   "id": "e603e232-8c2a-4818-8762-ca6042040b07",
   "metadata": {},
   "outputs": [
    {
     "data": {
      "text/plain": [
       "id                         30473\n",
       "timestamp             2015-06-30\n",
       "full_sq                      174\n",
       "life_sq                    802.0\n",
       "floor                       77.0\n",
       "                         ...    \n",
       "leisure_count_5000           106\n",
       "sport_count_5000             218\n",
       "market_count_5000             21\n",
       "price_doc              111111112\n",
       "zscore                  2.956757\n",
       "Length: 259, dtype: object"
      ]
     },
     "execution_count": 181,
     "metadata": {},
     "output_type": "execute_result"
    },
    {
     "data": {
      "image/png": "[encoded data removed]",
      "text/plain": [
       "<Figure size 640x480 with 1 Axes>"
      ]
     },
     "metadata": {},
     "output_type": "display_data"
    }
   ],
   "source": [
    "new_df['full_sq'].plot(kind='hist')\n",
    "new_df.max()"
   ]
  },
  {
   "cell_type": "code",
   "execution_count": null,
   "id": "54773d77-b617-4afd-bc41-4382d473889d",
   "metadata": {},
   "outputs": [],
   "source": [
    "аномалии устранены"
   ]
  },
  {
   "cell_type": "code",
   "execution_count": 166,
   "id": "ae430c3a-f8c7-4082-b8be-2877e4778a20",
   "metadata": {},
   "outputs": [
    {
     "data": {
      "text/plain": [
       "id                             1\n",
       "timestamp             2011-08-20\n",
       "full_sq                        1\n",
       "life_sq                      0.0\n",
       "floor                        0.0\n",
       "                         ...    \n",
       "mosque_count_5000              0\n",
       "leisure_count_5000             0\n",
       "sport_count_5000               0\n",
       "market_count_5000              0\n",
       "price_doc                 100000\n",
       "Length: 258, dtype: object"
      ]
     },
     "execution_count": 166,
     "metadata": {},
     "output_type": "execute_result"
    },
    {
     "data": {
      "image/png": "[encoded data removed]",
      "text/plain": [
       "<Figure size 640x480 with 1 Axes>"
      ]
     },
     "metadata": {},
     "output_type": "display_data"
    }
   ],
   "source": [
    "df['life_sq'].plot(kind='hist')\n",
    "df.min()"
   ]
  },
  {
   "cell_type": "code",
   "execution_count": 182,
   "id": "77ea0d9e-c52f-4b91-b16e-5e00dc151f7b",
   "metadata": {},
   "outputs": [],
   "source": [
    "df['zscore'] = (df['life_sq'] - df['life_sq'].mean())/df['life_sq'].std() \n",
    "df[(df['zscore'] > 3) | (df['zscore'] < -3)]\n",
    "new_df = df[(df['zscore'] < 3) & (df['zscore'] > -3)]\n",
    "new_df.to_csv('train11.csv', sep=',', index=False, encoding='utf-8')"
   ]
  },
  {
   "cell_type": "code",
   "execution_count": null,
   "id": "0ac116e2-b7a2-4ea1-a192-43167695d76f",
   "metadata": {},
   "outputs": [],
   "source": [
    "так же происходит и с другими параметрами"
   ]
  },
  {
   "cell_type": "code",
   "execution_count": 193,
   "id": "e03d41cb-1174-4a28-9671-c409a0508233",
   "metadata": {},
   "outputs": [
    {
     "data": {
      "text/plain": [
       "id                             1\n",
       "timestamp             2011-08-20\n",
       "full_sq                        1\n",
       "life_sq                      0.0\n",
       "floor                        0.0\n",
       "                         ...    \n",
       "leisure_count_5000             0\n",
       "sport_count_5000               0\n",
       "market_count_5000              0\n",
       "price_doc                 100000\n",
       "zscore                 -0.299029\n",
       "Length: 259, dtype: object"
      ]
     },
     "execution_count": 193,
     "metadata": {},
     "output_type": "execute_result"
    },
    {
     "data": {
      "image/png": "[encoded data removed]",
      "text/plain": [
       "<Figure size 640x480 with 1 Axes>"
      ]
     },
     "metadata": {},
     "output_type": "display_data"
    }
   ],
   "source": [
    "new_df['life_sq'].plot(kind='hist')\n",
    "new_df.min()"
   ]
  },
  {
   "cell_type": "code",
   "execution_count": 192,
   "id": "30690e36-84db-4db3-aa25-649847897c20",
   "metadata": {},
   "outputs": [],
   "source": [
    "df = pd.read_csv('train11.csv')\n",
    "\n",
    "\n",
    "params = ['life_sq','full_sq']\n",
    "for i in params:\n",
    "    df['zscore'] = (df[i] - df[i].mean())/df[i].std() \n",
    "    df[(df['zscore'] > 3) | (df['zscore'] < -3)]\n",
    "    df = df[(df['zscore'] < 3) & (df['zscore'] > -3)]\n",
    "    df.to_csv('train12.csv', sep=',', index=False, encoding='utf-8')"
   ]
  },
  {
   "cell_type": "code",
   "execution_count": 199,
   "id": "257a10bc-3672-4273-8f4a-f684cc85daf0",
   "metadata": {},
   "outputs": [
    {
     "data": {
      "text/plain": [
       "id                         30473\n",
       "timestamp             2015-06-30\n",
       "full_sq                      128\n",
       "life_sq                     90.0\n",
       "floor                       77.0\n",
       "                         ...    \n",
       "leisure_count_5000           106\n",
       "sport_count_5000             218\n",
       "market_count_5000             21\n",
       "price_doc              111111112\n",
       "zscore                  3.966388\n",
       "Length: 259, dtype: object"
      ]
     },
     "execution_count": 199,
     "metadata": {},
     "output_type": "execute_result"
    },
    {
     "data": {
      "image/png": "[encoded data removed]",
      "text/plain": [
       "<Figure size 640x480 with 1 Axes>"
      ]
     },
     "metadata": {},
     "output_type": "display_data"
    }
   ],
   "source": [
    "df = pd.read_csv('train12.csv')\n",
    "df['life_sq'].plot(kind='hist')\n",
    "df.max()\n",
    "df['full_sq'].plot(kind='hist')\n",
    "df.max()"
   ]
  },
  {
   "cell_type": "code",
   "execution_count": 208,
   "id": "f4572afc-6d9d-4da3-9372-00fa29970dc1",
   "metadata": {},
   "outputs": [],
   "source": [
    "df = pd.read_csv('train12.csv')\n",
    "df['zscore'] = (df['kitch_sq'] - df['kitch_sq'].mean())/df['kitch_sq'].std() \n",
    "df[(df['zscore'] > 6) | (df['zscore'] < -6)]\n",
    "df = df[(df['zscore'] < 6) & (df['zscore'] > -6)]\n",
    "df.shape\n",
    "df.to_csv('train13.csv', sep=',', index=False, encoding='utf-8')"
   ]
  },
  {
   "cell_type": "code",
   "execution_count": 210,
   "id": "a36d3b41-4e14-4131-ada7-7932a296c287",
   "metadata": {},
   "outputs": [],
   "source": [
    "df['zscore'] = (df['floor'] - df['floor'].mean())/df['floor'].std() \n",
    "df[(df['zscore'] > 4) | (df['zscore'] < -4)]\n",
    "df = df[(df['zscore'] < 4) & (df['zscore'] > -4)]\n",
    "df.shape\n",
    "df.to_csv('train13.csv', sep=',', index=False, encoding='utf-8')"
   ]
  },
  {
   "cell_type": "code",
   "execution_count": 212,
   "id": "169b27fc-fd54-4b1c-87b2-1fe15797a43c",
   "metadata": {},
   "outputs": [],
   "source": [
    "df['zscore'] = (df['max_floor'] - df['max_floor'].mean())/df['max_floor'].std() \n",
    "df[(df['zscore'] > 4) | (df['zscore'] < -4)]\n",
    "df = df[(df['zscore'] < 4) & (df['zscore'] > -4)]\n",
    "df.shape\n",
    "df.to_csv('train13.csv', sep=',', index=False, encoding='utf-8')"
   ]
  },
  {
   "cell_type": "code",
   "execution_count": 253,
   "id": "233bc0c6-28db-447d-baf5-197c36e415b5",
   "metadata": {},
   "outputs": [],
   "source": [
    "df['zscore'] = (df['build_year'] - df['build_year'].mean())/df['build_year'].std() \n",
    "df[(df['zscore'] > 3) | (df['zscore'] < -3)]\n",
    "df = df[(df['zscore'] < 3) & (df['zscore'] > -3)]\n",
    "df.shape\n",
    "df.to_csv('train14.csv', sep=',', index=False, encoding='utf-8')"
   ]
  },
  {
   "cell_type": "code",
   "execution_count": 220,
   "id": "ad79f15f-9cd8-42d8-9db1-14d900969942",
   "metadata": {},
   "outputs": [],
   "source": [
    "df['zscore'] = (df['num_room'] - df['num_room'].mean())/df['num_room'].std() \n",
    "df[(df['zscore'] > 3) | (df['zscore'] < -3)]\n",
    "df = df[(df['zscore'] < 3) & (df['zscore'] > -3)]\n",
    "df.shape\n",
    "df.to_csv('train13.csv', sep=',', index=False, encoding='utf-8')"
   ]
  },
  {
   "cell_type": "code",
   "execution_count": 221,
   "id": "69e315ef-46d8-4767-ae0f-8d434b6f7865",
   "metadata": {
    "scrolled": true
   },
   "outputs": [
    {
     "data": {
      "text/plain": [
       "['id',\n",
       " 'timestamp',\n",
       " 'full_sq',\n",
       " 'life_sq',\n",
       " 'floor',\n",
       " 'max_floor',\n",
       " 'material',\n",
       " 'build_year',\n",
       " 'num_room',\n",
       " 'kitch_sq',\n",
       " 'state',\n",
       " 'product_type',\n",
       " 'sub_area',\n",
       " 'area_m',\n",
       " 'raion_popul',\n",
       " 'green_zone_part',\n",
       " 'indust_part',\n",
       " 'children_preschool',\n",
       " 'preschool_quota',\n",
       " 'preschool_education_centers_raion',\n",
       " 'children_school',\n",
       " 'school_quota',\n",
       " 'school_education_centers_raion',\n",
       " 'school_education_centers_top_20_raion',\n",
       " 'healthcare_centers_raion',\n",
       " 'university_top_20_raion',\n",
       " 'sport_objects_raion',\n",
       " 'additional_education_raion',\n",
       " 'culture_objects_top_25',\n",
       " 'culture_objects_top_25_raion',\n",
       " 'shopping_centers_raion',\n",
       " 'office_raion',\n",
       " 'thermal_power_plant_raion',\n",
       " 'incineration_raion',\n",
       " 'oil_chemistry_raion',\n",
       " 'radiation_raion',\n",
       " 'railroad_terminal_raion',\n",
       " 'big_market_raion',\n",
       " 'nuclear_reactor_raion',\n",
       " 'detention_facility_raion',\n",
       " 'full_all',\n",
       " 'male_f',\n",
       " 'female_f',\n",
       " 'young_all',\n",
       " 'work_all',\n",
       " 'ekder_all',\n",
       " 'raion_build_count_with_material_info',\n",
       " 'build_count_block',\n",
       " 'build_count_wood',\n",
       " 'build_count_frame',\n",
       " 'build_count_brick',\n",
       " 'build_count_monolith',\n",
       " 'build_count_panel',\n",
       " 'build_count_foam',\n",
       " 'build_count_slag',\n",
       " 'build_count_mix',\n",
       " 'raion_build_count_with_builddate_info',\n",
       " 'build_count_before_1920',\n",
       " 'build_count_1921-1945',\n",
       " 'build_count_1946-1970',\n",
       " 'build_count_1971-1995',\n",
       " 'build_count_after_1995',\n",
       " 'ID_metro',\n",
       " 'metro_min_avto',\n",
       " 'metro_km_avto',\n",
       " 'metro_min_walk',\n",
       " 'metro_km_walk',\n",
       " 'kindergarten_km',\n",
       " 'school_km',\n",
       " 'park_km',\n",
       " 'green_zone_km',\n",
       " 'industrial_km',\n",
       " 'water_treatment_km',\n",
       " 'cemetery_km',\n",
       " 'incineration_km',\n",
       " 'railroad_station_walk_km',\n",
       " 'railroad_station_walk_min',\n",
       " 'ID_railroad_station_walk',\n",
       " 'railroad_station_avto_km',\n",
       " 'railroad_station_avto_min',\n",
       " 'ID_railroad_station_avto',\n",
       " 'public_transport_station_km',\n",
       " 'public_transport_station_min_walk',\n",
       " 'water_km',\n",
       " 'water_1line',\n",
       " 'mkad_km',\n",
       " 'ttk_km',\n",
       " 'sadovoe_km',\n",
       " 'bulvar_ring_km',\n",
       " 'kremlin_km',\n",
       " 'big_road1_km',\n",
       " 'ID_big_road1',\n",
       " 'big_road1_1line',\n",
       " 'big_road2_km',\n",
       " 'ID_big_road2',\n",
       " 'railroad_km',\n",
       " 'railroad_1line',\n",
       " 'zd_vokzaly_avto_km',\n",
       " 'ID_railroad_terminal',\n",
       " 'bus_terminal_avto_km',\n",
       " 'ID_bus_terminal',\n",
       " 'oil_chemistry_km',\n",
       " 'nuclear_reactor_km',\n",
       " 'radiation_km',\n",
       " 'power_transmission_line_km',\n",
       " 'thermal_power_plant_km',\n",
       " 'ts_km',\n",
       " 'big_market_km',\n",
       " 'market_shop_km',\n",
       " 'fitness_km',\n",
       " 'swim_pool_km',\n",
       " 'ice_rink_km',\n",
       " 'stadium_km',\n",
       " 'basketball_km',\n",
       " 'hospice_morgue_km',\n",
       " 'detention_facility_km',\n",
       " 'public_healthcare_km',\n",
       " 'university_km',\n",
       " 'workplaces_km',\n",
       " 'shopping_centers_km',\n",
       " 'office_km',\n",
       " 'additional_education_km',\n",
       " 'preschool_km',\n",
       " 'big_church_km',\n",
       " 'church_synagogue_km',\n",
       " 'mosque_km',\n",
       " 'theater_km',\n",
       " 'museum_km',\n",
       " 'exhibition_km',\n",
       " 'catering_km',\n",
       " 'ecology',\n",
       " 'green_part_500',\n",
       " 'prom_part_500',\n",
       " 'office_count_500',\n",
       " 'office_sqm_500',\n",
       " 'trc_count_500',\n",
       " 'trc_sqm_500',\n",
       " 'cafe_count_500',\n",
       " 'cafe_count_500_na_price',\n",
       " 'cafe_count_500_price_500',\n",
       " 'cafe_count_500_price_1000',\n",
       " 'cafe_count_500_price_1500',\n",
       " 'cafe_count_500_price_2500',\n",
       " 'cafe_count_500_price_4000',\n",
       " 'cafe_count_500_price_high',\n",
       " 'big_church_count_500',\n",
       " 'church_count_500',\n",
       " 'mosque_count_500',\n",
       " 'leisure_count_500',\n",
       " 'sport_count_500',\n",
       " 'market_count_500',\n",
       " 'green_part_1000',\n",
       " 'prom_part_1000',\n",
       " 'office_count_1000',\n",
       " 'office_sqm_1000',\n",
       " 'trc_count_1000',\n",
       " 'trc_sqm_1000',\n",
       " 'cafe_count_1000',\n",
       " 'cafe_count_1000_na_price',\n",
       " 'cafe_count_1000_price_500',\n",
       " 'cafe_count_1000_price_1000',\n",
       " 'cafe_count_1000_price_1500',\n",
       " 'cafe_count_1000_price_2500',\n",
       " 'cafe_count_1000_price_4000',\n",
       " 'cafe_count_1000_price_high',\n",
       " 'big_church_count_1000',\n",
       " 'church_count_1000',\n",
       " 'mosque_count_1000',\n",
       " 'leisure_count_1000',\n",
       " 'sport_count_1000',\n",
       " 'market_count_1000',\n",
       " 'green_part_1500',\n",
       " 'prom_part_1500',\n",
       " 'office_count_1500',\n",
       " 'office_sqm_1500',\n",
       " 'trc_count_1500',\n",
       " 'trc_sqm_1500',\n",
       " 'cafe_count_1500',\n",
       " 'cafe_count_1500_na_price',\n",
       " 'cafe_count_1500_price_500',\n",
       " 'cafe_count_1500_price_1000',\n",
       " 'cafe_count_1500_price_1500',\n",
       " 'cafe_count_1500_price_2500',\n",
       " 'cafe_count_1500_price_4000',\n",
       " 'cafe_count_1500_price_high',\n",
       " 'big_church_count_1500',\n",
       " 'church_count_1500',\n",
       " 'mosque_count_1500',\n",
       " 'leisure_count_1500',\n",
       " 'sport_count_1500',\n",
       " 'market_count_1500',\n",
       " 'green_part_2000',\n",
       " 'prom_part_2000',\n",
       " 'office_count_2000',\n",
       " 'office_sqm_2000',\n",
       " 'trc_count_2000',\n",
       " 'trc_sqm_2000',\n",
       " 'cafe_count_2000',\n",
       " 'cafe_count_2000_na_price',\n",
       " 'cafe_count_2000_price_500',\n",
       " 'cafe_count_2000_price_1000',\n",
       " 'cafe_count_2000_price_1500',\n",
       " 'cafe_count_2000_price_2500',\n",
       " 'cafe_count_2000_price_4000',\n",
       " 'cafe_count_2000_price_high',\n",
       " 'big_church_count_2000',\n",
       " 'church_count_2000',\n",
       " 'mosque_count_2000',\n",
       " 'leisure_count_2000',\n",
       " 'sport_count_2000',\n",
       " 'market_count_2000',\n",
       " 'green_part_3000',\n",
       " 'prom_part_3000',\n",
       " 'office_count_3000',\n",
       " 'office_sqm_3000',\n",
       " 'trc_count_3000',\n",
       " 'trc_sqm_3000',\n",
       " 'cafe_count_3000',\n",
       " 'cafe_sum_3000_min_price_avg',\n",
       " 'cafe_sum_3000_max_price_avg',\n",
       " 'cafe_avg_price_3000',\n",
       " 'cafe_count_3000_na_price',\n",
       " 'cafe_count_3000_price_500',\n",
       " 'cafe_count_3000_price_1000',\n",
       " 'cafe_count_3000_price_1500',\n",
       " 'cafe_count_3000_price_2500',\n",
       " 'cafe_count_3000_price_4000',\n",
       " 'cafe_count_3000_price_high',\n",
       " 'big_church_count_3000',\n",
       " 'church_count_3000',\n",
       " 'mosque_count_3000',\n",
       " 'leisure_count_3000',\n",
       " 'sport_count_3000',\n",
       " 'market_count_3000',\n",
       " 'green_part_5000',\n",
       " 'prom_part_5000',\n",
       " 'office_count_5000',\n",
       " 'office_sqm_5000',\n",
       " 'trc_count_5000',\n",
       " 'trc_sqm_5000',\n",
       " 'cafe_count_5000',\n",
       " 'cafe_sum_5000_min_price_avg',\n",
       " 'cafe_sum_5000_max_price_avg',\n",
       " 'cafe_avg_price_5000',\n",
       " 'cafe_count_5000_na_price',\n",
       " 'cafe_count_5000_price_500',\n",
       " 'cafe_count_5000_price_1000',\n",
       " 'cafe_count_5000_price_1500',\n",
       " 'cafe_count_5000_price_2500',\n",
       " 'cafe_count_5000_price_4000',\n",
       " 'cafe_count_5000_price_high',\n",
       " 'big_church_count_5000',\n",
       " 'church_count_5000',\n",
       " 'mosque_count_5000',\n",
       " 'leisure_count_5000',\n",
       " 'sport_count_5000',\n",
       " 'market_count_5000',\n",
       " 'price_doc',\n",
       " 'zscore']"
      ]
     },
     "execution_count": 221,
     "metadata": {},
     "output_type": "execute_result"
    }
   ],
   "source": [
    "df.columns.values.tolist ()"
   ]
  },
  {
   "cell_type": "code",
   "execution_count": 227,
   "id": "822cad15-e540-4241-b8cd-d8b92f4f6dd1",
   "metadata": {},
   "outputs": [],
   "source": [
    "df['zscore'] = (df['state'] - df['state'].mean())/df['state'].std() \n",
    "df[(df['zscore'] > 5) | (df['zscore'] < -5)]\n",
    "df = df[(df['zscore'] < 5) & (df['zscore'] > -5)]\n",
    "df.shape\n",
    "df.to_csv('train13.csv', sep=',', index=False, encoding='utf-8')"
   ]
  },
  {
   "cell_type": "code",
   "execution_count": 229,
   "id": "79136fcf-d571-4e73-bf2a-b14b824ed1b7",
   "metadata": {},
   "outputs": [],
   "source": [
    "df['zscore'] = (df['green_zone_part'] - df['green_zone_part'].mean())/df['green_zone_part'].std() \n",
    "df[(df['zscore'] > 3) | (df['zscore'] < -3)]\n",
    "df = df[(df['zscore'] < 3) & (df['zscore'] > -3)]\n",
    "df.shape\n",
    "df.to_csv('train13.csv', sep=',', index=False, encoding='utf-8')"
   ]
  },
  {
   "cell_type": "code",
   "execution_count": null,
   "id": "09110da0-4a12-46e9-a527-5e84b4ca38ae",
   "metadata": {},
   "outputs": [],
   "source": [
    "df['zscore'] = (df['indust_part'] - df['indust_part'].mean())/df['indust_part'].std() \n",
    "df[(df['zscore'] > 3) | (df['zscore'] < -3)]\n",
    "df = df[(df['zscore'] < 3) & (df['zscore'] > -3)]\n",
    "df.shape\n",
    "df.to_csv('train13.csv', sep=',', index=False, encoding='utf-8')"
   ]
  },
  {
   "cell_type": "code",
   "execution_count": 237,
   "id": "1406ce8c-087e-4e85-86b2-86b7ac17dc69",
   "metadata": {},
   "outputs": [
    {
     "data": {
      "image/png": "[encoded data removed]",
      "text/plain": [
       "<Figure size 640x480 with 1 Axes>"
      ]
     },
     "metadata": {},
     "output_type": "display_data"
    }
   ],
   "source": [
    "col_name = [\n",
    " 'full_sq',\n",
    " 'life_sq',\n",
    " 'floor',\n",
    " 'max_floor',\n",
    " 'material',\n",
    " 'num_room',\n",
    " 'kitch_sq',\n",
    " 'state',\n",
    " 'green_zone_part',\n",
    " 'indust_part']\n",
    "for i in col_name:\n",
    "    df[i].plot(kind='hist')"
   ]
  },
  {
   "cell_type": "code",
   "execution_count": null,
   "id": "3643577e-71d8-4253-b83b-f6c71ac0712a",
   "metadata": {},
   "outputs": [],
   "source": [
    "аномалии устранены\n",
    "смотрим на сбалансированность датасета"
   ]
  },
  {
   "cell_type": "code",
   "execution_count": 254,
   "id": "ce6215bf-a64f-41a8-aa07-53a469800259",
   "metadata": {},
   "outputs": [
    {
     "data": {
      "text/plain": [
       "<Axes: ylabel='Frequency'>"
      ]
     },
     "execution_count": 254,
     "metadata": {},
     "output_type": "execute_result"
    },
    {
     "data": {
      "image/png": "[encoded data removed]",
      "text/plain": [
       "<Figure size 640x480 with 1 Axes>"
      ]
     },
     "metadata": {},
     "output_type": "display_data"
    }
   ],
   "source": [
    "df['build_year'].plot(kind='hist')"
   ]
  },
  {
   "cell_type": "code",
   "execution_count": null,
   "id": "0b59a2ef-7c9c-4a93-96e5-43b0b6420fb9",
   "metadata": {},
   "outputs": [],
   "source": [
    "плохая сбалансированность у даты постройки"
   ]
  },
  {
   "cell_type": "code",
   "execution_count": 246,
   "id": "4bca257b-4814-4817-9061-a6400648d5eb",
   "metadata": {},
   "outputs": [
    {
     "data": {
      "text/plain": [
       "<Axes: ylabel='Frequency'>"
      ]
     },
     "execution_count": 246,
     "metadata": {},
     "output_type": "execute_result"
    },
    {
     "data": {
      "image/png": "[encoded data removed]",
      "text/plain": [
       "<Figure size 640x480 with 1 Axes>"
      ]
     },
     "metadata": {},
     "output_type": "display_data"
    }
   ],
   "source": [
    "df['full_sq'].plot(kind='hist')"
   ]
  },
  {
   "cell_type": "code",
   "execution_count": null,
   "id": "8336638d-673b-4c5c-a3b2-91b8323aa683",
   "metadata": {},
   "outputs": [],
   "source": [
    "нормальная сбалансированность"
   ]
  },
  {
   "cell_type": "code",
   "execution_count": 247,
   "id": "40329a29-c16a-4d54-a47b-978ba709ee24",
   "metadata": {},
   "outputs": [
    {
     "data": {
      "text/plain": [
       "<Axes: ylabel='Frequency'>"
      ]
     },
     "execution_count": 247,
     "metadata": {},
     "output_type": "execute_result"
    },
    {
     "data": {
      "image/png": "[encoded data removed]",
      "text/plain": [
       "<Figure size 640x480 with 1 Axes>"
      ]
     },
     "metadata": {},
     "output_type": "display_data"
    }
   ],
   "source": [
    "df['floor'].plot(kind='hist')"
   ]
  },
  {
   "cell_type": "code",
   "execution_count": null,
   "id": "e5e10189-c55d-4395-9bf0-fa58cc6a31dc",
   "metadata": {},
   "outputs": [],
   "source": [
    "нормальная"
   ]
  },
  {
   "cell_type": "code",
   "execution_count": 252,
   "id": "5ce26d7e-c110-43ab-a05a-b561f306a01f",
   "metadata": {},
   "outputs": [
    {
     "data": {
      "text/plain": [
       "<Axes: ylabel='Frequency'>"
      ]
     },
     "execution_count": 252,
     "metadata": {},
     "output_type": "execute_result"
    },
    {
     "data": {
      "image/png": "[encoded data removed]",
      "text/plain": [
       "<Figure size 640x480 with 1 Axes>"
      ]
     },
     "metadata": {},
     "output_type": "display_data"
    }
   ],
   "source": [
    "df['life_sq'].plot(kind='hist')"
   ]
  },
  {
   "cell_type": "code",
   "execution_count": null,
   "id": "2158c9c7-1c8e-4f58-9644-7598084b14bb",
   "metadata": {},
   "outputs": [],
   "source": [
    "более-менее"
   ]
  },
  {
   "cell_type": "markdown",
   "id": "d341af9f-b01f-41bc-89bb-e973120bb4dc",
   "metadata": {},
   "source": [
    "В целом, датасет сбалансирован, основные параметры, такие как год объявления, жилая и нежилая площадь, этаж дома имеют несколько основных значений. Дата постройки дома сбалансирована плохо, этот столбец следует убрать для лучшего баланса."
   ]
  },
  {
   "cell_type": "code",
   "execution_count": 255,
   "id": "245145fa-ef7f-42d5-a97f-2d24c950d13c",
   "metadata": {},
   "outputs": [],
   "source": [
    "df = df.drop(columns=['build_year'],axis = 1)"
   ]
  },
  {
   "cell_type": "code",
   "execution_count": 256,
   "id": "4b8fab2b-5287-4699-b190-afda17847870",
   "metadata": {},
   "outputs": [],
   "source": [
    "df = df.drop(columns=['zscore'],axis = 1)"
   ]
  },
  {
   "cell_type": "code",
   "execution_count": null,
   "id": "d2898068-6bf3-43b9-b394-cacd09ad46ef",
   "metadata": {},
   "outputs": [],
   "source": [
    "так же убираем вспомогательный столбец"
   ]
  },
  {
   "cell_type": "code",
   "execution_count": 260,
   "id": "eedb8a24-6828-4fb3-b216-6a8f66048588",
   "metadata": {},
   "outputs": [
    {
     "data": {
      "text/plain": [
       "0.5966379440966465"
      ]
     },
     "execution_count": 260,
     "metadata": {},
     "output_type": "execute_result"
    }
   ],
   "source": [
    "df['full_sq'].corr(df['price_doc'])"
   ]
  },
  {
   "cell_type": "code",
   "execution_count": null,
   "id": "3ca77166-a77b-4cd7-8bbd-6672b9bcf24f",
   "metadata": {},
   "outputs": [],
   "source": [
    "выявляем корреляцию между общей площадью и ценой, она достаточно высокая"
   ]
  },
  {
   "cell_type": "code",
   "execution_count": 298,
   "id": "7e992887-db4b-4577-9103-515d450635b3",
   "metadata": {},
   "outputs": [
    {
     "data": {
      "text/html": [
       "<div>\n",
       "<style scoped>\n",
       "    .dataframe tbody tr th:only-of-type {\n",
       "        vertical-align: middle;\n",
       "    }\n",
       "\n",
       "    .dataframe tbody tr th {\n",
       "        vertical-align: top;\n",
       "    }\n",
       "\n",
       "    .dataframe thead th {\n",
       "        text-align: right;\n",
       "    }\n",
       "</style>\n",
       "<table border=\"1\" class=\"dataframe\">\n",
       "  <thead>\n",
       "    <tr style=\"text-align: right;\">\n",
       "      <th></th>\n",
       "      <th>names</th>\n",
       "      <th>price_doc</th>\n",
       "    </tr>\n",
       "  </thead>\n",
       "  <tbody>\n",
       "    <tr>\n",
       "      <th>price_doc</th>\n",
       "      <td>price_doc</td>\n",
       "      <td>1.000000</td>\n",
       "    </tr>\n",
       "    <tr>\n",
       "      <th>full_sq</th>\n",
       "      <td>full_sq</td>\n",
       "      <td>0.596638</td>\n",
       "    </tr>\n",
       "    <tr>\n",
       "      <th>life_sq</th>\n",
       "      <td>life_sq</td>\n",
       "      <td>0.468201</td>\n",
       "    </tr>\n",
       "    <tr>\n",
       "      <th>num_room</th>\n",
       "      <td>num_room</td>\n",
       "      <td>0.403637</td>\n",
       "    </tr>\n",
       "    <tr>\n",
       "      <th>kitch_sq</th>\n",
       "      <td>kitch_sq</td>\n",
       "      <td>0.252030</td>\n",
       "    </tr>\n",
       "    <tr>\n",
       "      <th>sport_count_5000</th>\n",
       "      <td>sport_count_5000</td>\n",
       "      <td>0.238277</td>\n",
       "    </tr>\n",
       "    <tr>\n",
       "      <th>trc_count_5000</th>\n",
       "      <td>trc_count_5000</td>\n",
       "      <td>0.230829</td>\n",
       "    </tr>\n",
       "    <tr>\n",
       "      <th>sport_count_3000</th>\n",
       "      <td>sport_count_3000</td>\n",
       "      <td>0.224193</td>\n",
       "    </tr>\n",
       "    <tr>\n",
       "      <th>office_sqm_5000</th>\n",
       "      <td>office_sqm_5000</td>\n",
       "      <td>0.220159</td>\n",
       "    </tr>\n",
       "    <tr>\n",
       "      <th>trc_sqm_5000</th>\n",
       "      <td>trc_sqm_5000</td>\n",
       "      <td>0.213650</td>\n",
       "    </tr>\n",
       "    <tr>\n",
       "      <th>sport_count_2000</th>\n",
       "      <td>sport_count_2000</td>\n",
       "      <td>0.209645</td>\n",
       "    </tr>\n",
       "    <tr>\n",
       "      <th>sport_count_1500</th>\n",
       "      <td>sport_count_1500</td>\n",
       "      <td>0.193932</td>\n",
       "    </tr>\n",
       "    <tr>\n",
       "      <th>cafe_count_5000_price_1000</th>\n",
       "      <td>cafe_count_5000_price_1000</td>\n",
       "      <td>0.186933</td>\n",
       "    </tr>\n",
       "    <tr>\n",
       "      <th>sport_objects_raion</th>\n",
       "      <td>sport_objects_raion</td>\n",
       "      <td>0.182006</td>\n",
       "    </tr>\n",
       "    <tr>\n",
       "      <th>cafe_count_5000_price_1500</th>\n",
       "      <td>cafe_count_5000_price_1500</td>\n",
       "      <td>0.181475</td>\n",
       "    </tr>\n",
       "    <tr>\n",
       "      <th>cafe_count_5000</th>\n",
       "      <td>cafe_count_5000</td>\n",
       "      <td>0.180365</td>\n",
       "    </tr>\n",
       "  </tbody>\n",
       "</table>\n",
       "</div>"
      ],
      "text/plain": [
       "                                                 names  price_doc\n",
       "price_doc                                    price_doc   1.000000\n",
       "full_sq                                        full_sq   0.596638\n",
       "life_sq                                        life_sq   0.468201\n",
       "num_room                                      num_room   0.403637\n",
       "kitch_sq                                      kitch_sq   0.252030\n",
       "sport_count_5000                      sport_count_5000   0.238277\n",
       "trc_count_5000                          trc_count_5000   0.230829\n",
       "sport_count_3000                      sport_count_3000   0.224193\n",
       "office_sqm_5000                        office_sqm_5000   0.220159\n",
       "trc_sqm_5000                              trc_sqm_5000   0.213650\n",
       "sport_count_2000                      sport_count_2000   0.209645\n",
       "sport_count_1500                      sport_count_1500   0.193932\n",
       "cafe_count_5000_price_1000  cafe_count_5000_price_1000   0.186933\n",
       "sport_objects_raion                sport_objects_raion   0.182006\n",
       "cafe_count_5000_price_1500  cafe_count_5000_price_1500   0.181475\n",
       "cafe_count_5000                        cafe_count_5000   0.180365"
      ]
     },
     "execution_count": 298,
     "metadata": {},
     "output_type": "execute_result"
    }
   ],
   "source": [
    "temp_df = df.drop(columns=['timestamp','ecology','product_type','sub_area','culture_objects_top_25', 'thermal_power_plant_raion',\n",
    " 'incineration_raion',\n",
    " 'oil_chemistry_raion',\n",
    " 'radiation_raion',\n",
    " 'railroad_terminal_raion',\n",
    " 'big_market_raion',\n",
    " 'nuclear_reactor_raion',\n",
    " 'detention_facility_raion','water_1line','big_road1_1line','railroad_1line','id'],axis = 1)\n",
    "dfcorr = temp_df.corr()\n",
    "dfcorr['names'] = temp_df.columns.values.tolist()\n",
    "dfcorr = dfcorr[['names','price_doc']]\n",
    "dfcorr = dfcorr.sort_values(by='price_doc', ascending=False)\n",
    "dfcorr.to_csv('сcorr.csv', sep=',', index=False, encoding='utf-8')\n",
    "dfcorr.head(16)"
   ]
  },
  {
   "cell_type": "code",
   "execution_count": null,
   "id": "25fa0649-db7a-4b78-a6ec-44832165b8c6",
   "metadata": {},
   "outputs": [],
   "source": [
    "выявляем корреляции между всеми столбцами и ценой"
   ]
  },
  {
   "cell_type": "markdown",
   "id": "47524243-24f2-4d8c-9e76-1c5a42b49af5",
   "metadata": {},
   "source": [
    "Наибольшее значение оказывает: полная,кухонная и жилая площадь,количество комнат. Далее идет инфраструктура на разном расстоянии, спортивные сооржения, ТРЦ, офисы и кафе."
   ]
  },
  {
   "cell_type": "code",
   "execution_count": 296,
   "id": "ee27c6a5-82c8-4bf0-b663-e25f5ba37b58",
   "metadata": {},
   "outputs": [
    {
     "data": {
      "text/html": [
       "<div>\n",
       "<style scoped>\n",
       "    .dataframe tbody tr th:only-of-type {\n",
       "        vertical-align: middle;\n",
       "    }\n",
       "\n",
       "    .dataframe tbody tr th {\n",
       "        vertical-align: top;\n",
       "    }\n",
       "\n",
       "    .dataframe thead th {\n",
       "        text-align: right;\n",
       "    }\n",
       "</style>\n",
       "<table border=\"1\" class=\"dataframe\">\n",
       "  <thead>\n",
       "    <tr style=\"text-align: right;\">\n",
       "      <th></th>\n",
       "      <th>names</th>\n",
       "      <th>price_doc</th>\n",
       "    </tr>\n",
       "  </thead>\n",
       "  <tbody>\n",
       "    <tr>\n",
       "      <th>office_km</th>\n",
       "      <td>office_km</td>\n",
       "      <td>-0.165764</td>\n",
       "    </tr>\n",
       "    <tr>\n",
       "      <th>university_km</th>\n",
       "      <td>university_km</td>\n",
       "      <td>-0.171107</td>\n",
       "    </tr>\n",
       "    <tr>\n",
       "      <th>workplaces_km</th>\n",
       "      <td>workplaces_km</td>\n",
       "      <td>-0.172210</td>\n",
       "    </tr>\n",
       "    <tr>\n",
       "      <th>big_church_km</th>\n",
       "      <td>big_church_km</td>\n",
       "      <td>-0.172283</td>\n",
       "    </tr>\n",
       "    <tr>\n",
       "      <th>basketball_km</th>\n",
       "      <td>basketball_km</td>\n",
       "      <td>-0.174372</td>\n",
       "    </tr>\n",
       "    <tr>\n",
       "      <th>swim_pool_km</th>\n",
       "      <td>swim_pool_km</td>\n",
       "      <td>-0.179828</td>\n",
       "    </tr>\n",
       "    <tr>\n",
       "      <th>fitness_km</th>\n",
       "      <td>fitness_km</td>\n",
       "      <td>-0.186324</td>\n",
       "    </tr>\n",
       "    <tr>\n",
       "      <th>catering_km</th>\n",
       "      <td>catering_km</td>\n",
       "      <td>-0.189338</td>\n",
       "    </tr>\n",
       "    <tr>\n",
       "      <th>stadium_km</th>\n",
       "      <td>stadium_km</td>\n",
       "      <td>-0.192744</td>\n",
       "    </tr>\n",
       "    <tr>\n",
       "      <th>nuclear_reactor_km</th>\n",
       "      <td>nuclear_reactor_km</td>\n",
       "      <td>-0.212398</td>\n",
       "    </tr>\n",
       "    <tr>\n",
       "      <th>ttk_km</th>\n",
       "      <td>ttk_km</td>\n",
       "      <td>-0.224829</td>\n",
       "    </tr>\n",
       "    <tr>\n",
       "      <th>bulvar_ring_km</th>\n",
       "      <td>bulvar_ring_km</td>\n",
       "      <td>-0.227220</td>\n",
       "    </tr>\n",
       "    <tr>\n",
       "      <th>kremlin_km</th>\n",
       "      <td>kremlin_km</td>\n",
       "      <td>-0.227813</td>\n",
       "    </tr>\n",
       "    <tr>\n",
       "      <th>sadovoe_km</th>\n",
       "      <td>sadovoe_km</td>\n",
       "      <td>-0.234289</td>\n",
       "    </tr>\n",
       "    <tr>\n",
       "      <th>zd_vokzaly_avto_km</th>\n",
       "      <td>zd_vokzaly_avto_km</td>\n",
       "      <td>-0.238040</td>\n",
       "    </tr>\n",
       "  </tbody>\n",
       "</table>\n",
       "</div>"
      ],
      "text/plain": [
       "                                 names  price_doc\n",
       "office_km                    office_km  -0.165764\n",
       "university_km            university_km  -0.171107\n",
       "workplaces_km            workplaces_km  -0.172210\n",
       "big_church_km            big_church_km  -0.172283\n",
       "basketball_km            basketball_km  -0.174372\n",
       "swim_pool_km              swim_pool_km  -0.179828\n",
       "fitness_km                  fitness_km  -0.186324\n",
       "catering_km                catering_km  -0.189338\n",
       "stadium_km                  stadium_km  -0.192744\n",
       "nuclear_reactor_km  nuclear_reactor_km  -0.212398\n",
       "ttk_km                          ttk_km  -0.224829\n",
       "bulvar_ring_km          bulvar_ring_km  -0.227220\n",
       "kremlin_km                  kremlin_km  -0.227813\n",
       "sadovoe_km                  sadovoe_km  -0.234289\n",
       "zd_vokzaly_avto_km  zd_vokzaly_avto_km  -0.238040"
      ]
     },
     "execution_count": 296,
     "metadata": {},
     "output_type": "execute_result"
    }
   ],
   "source": [
    "dfcorr.tail(15)"
   ]
  },
  {
   "cell_type": "code",
   "execution_count": null,
   "id": "52314b86-af39-4fe4-b474-0213487ea105",
   "metadata": {},
   "outputs": [],
   "source": [
    "наименьшая корреляция с расстоянием до таких объектов как: университет, баскетбольная площадка, бассейн, а так же стадион\n",
    "в файле corr.csv вы можете увидеть корреляции между всеми строчками и ценой\n"
   ]
  },
  {
   "cell_type": "code",
   "execution_count": 299,
   "id": "7dec23af-4597-4326-9810-fe405a8c2f2a",
   "metadata": {},
   "outputs": [
    {
     "data": {
      "text/html": [
       "<div>\n",
       "<style scoped>\n",
       "    .dataframe tbody tr th:only-of-type {\n",
       "        vertical-align: middle;\n",
       "    }\n",
       "\n",
       "    .dataframe tbody tr th {\n",
       "        vertical-align: top;\n",
       "    }\n",
       "\n",
       "    .dataframe thead th {\n",
       "        text-align: right;\n",
       "    }\n",
       "</style>\n",
       "<table border=\"1\" class=\"dataframe\">\n",
       "  <thead>\n",
       "    <tr style=\"text-align: right;\">\n",
       "      <th></th>\n",
       "      <th>floor</th>\n",
       "      <th>count_floors</th>\n",
       "      <th>rooms</th>\n",
       "      <th>square</th>\n",
       "      <th>district</th>\n",
       "      <th>price</th>\n",
       "    </tr>\n",
       "  </thead>\n",
       "  <tbody>\n",
       "    <tr>\n",
       "      <th>0</th>\n",
       "      <td>8</td>\n",
       "      <td>17</td>\n",
       "      <td>1</td>\n",
       "      <td>36.2</td>\n",
       "      <td>1</td>\n",
       "      <td>20000000</td>\n",
       "    </tr>\n",
       "    <tr>\n",
       "      <th>1</th>\n",
       "      <td>11</td>\n",
       "      <td>12</td>\n",
       "      <td>1</td>\n",
       "      <td>61.3</td>\n",
       "      <td>1</td>\n",
       "      <td>41200000</td>\n",
       "    </tr>\n",
       "    <tr>\n",
       "      <th>2</th>\n",
       "      <td>2</td>\n",
       "      <td>5</td>\n",
       "      <td>2</td>\n",
       "      <td>105.0</td>\n",
       "      <td>1</td>\n",
       "      <td>146000000</td>\n",
       "    </tr>\n",
       "    <tr>\n",
       "      <th>3</th>\n",
       "      <td>3</td>\n",
       "      <td>3</td>\n",
       "      <td>2</td>\n",
       "      <td>90.3</td>\n",
       "      <td>1</td>\n",
       "      <td>45800000</td>\n",
       "    </tr>\n",
       "    <tr>\n",
       "      <th>4</th>\n",
       "      <td>6</td>\n",
       "      <td>12</td>\n",
       "      <td>2</td>\n",
       "      <td>100.0</td>\n",
       "      <td>1</td>\n",
       "      <td>53500000</td>\n",
       "    </tr>\n",
       "    <tr>\n",
       "      <th>...</th>\n",
       "      <td>...</td>\n",
       "      <td>...</td>\n",
       "      <td>...</td>\n",
       "      <td>...</td>\n",
       "      <td>...</td>\n",
       "      <td>...</td>\n",
       "    </tr>\n",
       "    <tr>\n",
       "      <th>3497</th>\n",
       "      <td>6</td>\n",
       "      <td>21</td>\n",
       "      <td>2</td>\n",
       "      <td>41.0</td>\n",
       "      <td>142</td>\n",
       "      <td>43300000</td>\n",
       "    </tr>\n",
       "    <tr>\n",
       "      <th>3498</th>\n",
       "      <td>6</td>\n",
       "      <td>8</td>\n",
       "      <td>2</td>\n",
       "      <td>94.0</td>\n",
       "      <td>142</td>\n",
       "      <td>127800000</td>\n",
       "    </tr>\n",
       "    <tr>\n",
       "      <th>3499</th>\n",
       "      <td>3</td>\n",
       "      <td>9</td>\n",
       "      <td>2</td>\n",
       "      <td>41.2</td>\n",
       "      <td>142</td>\n",
       "      <td>21500000</td>\n",
       "    </tr>\n",
       "    <tr>\n",
       "      <th>3500</th>\n",
       "      <td>5</td>\n",
       "      <td>6</td>\n",
       "      <td>2</td>\n",
       "      <td>59.1</td>\n",
       "      <td>142</td>\n",
       "      <td>25400000</td>\n",
       "    </tr>\n",
       "    <tr>\n",
       "      <th>3501</th>\n",
       "      <td>6</td>\n",
       "      <td>8</td>\n",
       "      <td>2</td>\n",
       "      <td>94.0</td>\n",
       "      <td>142</td>\n",
       "      <td>127800000</td>\n",
       "    </tr>\n",
       "  </tbody>\n",
       "</table>\n",
       "<p>3502 rows × 6 columns</p>\n",
       "</div>"
      ],
      "text/plain": [
       "      floor  count_floors  rooms  square  district      price\n",
       "0         8            17      1    36.2         1   20000000\n",
       "1        11            12      1    61.3         1   41200000\n",
       "2         2             5      2   105.0         1  146000000\n",
       "3         3             3      2    90.3         1   45800000\n",
       "4         6            12      2   100.0         1   53500000\n",
       "...     ...           ...    ...     ...       ...        ...\n",
       "3497      6            21      2    41.0       142   43300000\n",
       "3498      6             8      2    94.0       142  127800000\n",
       "3499      3             9      2    41.2       142   21500000\n",
       "3500      5             6      2    59.1       142   25400000\n",
       "3501      6             8      2    94.0       142  127800000\n",
       "\n",
       "[3502 rows x 6 columns]"
      ]
     },
     "metadata": {},
     "output_type": "display_data"
    }
   ],
   "source": [
    "df_new = pd.read_csv('Moscow_dataSet.csv')\n",
    "display(df_new)"
   ]
  },
  {
   "cell_type": "code",
   "execution_count": null,
   "id": "67f5bf65-cfd5-4ce8-aa7d-a4695587056a",
   "metadata": {},
   "outputs": [],
   "source": [
    "загружаем датасет, который мы собрали самостоятельно с сайта по продаже недвижимости"
   ]
  },
  {
   "cell_type": "code",
   "execution_count": 300,
   "id": "ca81f167-0a0e-483a-ac90-0ca4e3ffd34e",
   "metadata": {},
   "outputs": [],
   "source": [
    "my_corr = df_new.corr()"
   ]
  },
  {
   "cell_type": "code",
   "execution_count": 303,
   "id": "c0916f88-459b-44f1-9dfc-39bfc6738470",
   "metadata": {},
   "outputs": [
    {
     "name": "stdout",
     "output_type": "stream",
     "text": [
      "floor          -0.002094\n",
      "count_floors   -0.018602\n",
      "rooms           0.509196\n",
      "square          0.807531\n",
      "district       -0.368634\n",
      "price           1.000000\n",
      "Name: price, dtype: float64\n"
     ]
    }
   ],
   "source": [
    "print(my_corr['price'])"
   ]
  },
  {
   "cell_type": "code",
   "execution_count": null,
   "id": "d4b2d1bc-07cf-49cb-8bf2-38ff81086f2b",
   "metadata": {},
   "outputs": [],
   "source": [
    "                современный  предоставленный\n",
    "floor           -0.002094        0.11\n",
    "count_floors    -0.018602        0.08\n",
    "rooms            0.509196        0.4\n",
    "square           0.807531        0.6\n"
   ]
  },
  {
   "cell_type": "code",
   "execution_count": 304,
   "id": "64106fb9-6830-4e54-aa1f-124313c3cb18",
   "metadata": {},
   "outputs": [
    {
     "data": {
      "text/plain": [
       "<Axes: ylabel='Frequency'>"
      ]
     },
     "execution_count": 304,
     "metadata": {},
     "output_type": "execute_result"
    },
    {
     "data": {
      "image/png": "[encoded data removed]",
      "text/plain": [
       "<Figure size 640x480 with 1 Axes>"
      ]
     },
     "metadata": {},
     "output_type": "display_data"
    }
   ],
   "source": [
    "df['floor'].plot(kind='hist')\n",
    "df_new['floor'].plot(kind='hist')"
   ]
  },
  {
   "cell_type": "code",
   "execution_count": null,
   "id": "2716d842-9f4e-46b3-97c8-f289859dddc5",
   "metadata": {},
   "outputs": [],
   "source": [
    "пики примерно совпадают, квартиры чаще всего продаются с 1 по 10 этаж"
   ]
  },
  {
   "cell_type": "code",
   "execution_count": 306,
   "id": "4b799f0b-3f26-46da-a31c-416788f9ffb5",
   "metadata": {},
   "outputs": [
    {
     "data": {
      "text/plain": [
       "<Axes: ylabel='Frequency'>"
      ]
     },
     "execution_count": 306,
     "metadata": {},
     "output_type": "execute_result"
    },
    {
     "data": {
      "image/png": "[encoded data removed]",
      "text/plain": [
       "<Figure size 640x480 with 1 Axes>"
      ]
     },
     "metadata": {},
     "output_type": "display_data"
    }
   ],
   "source": [
    "df['max_floor'].plot(kind='hist')\n",
    "df_new['count_floors'].plot(kind='hist')"
   ]
  },
  {
   "cell_type": "code",
   "execution_count": null,
   "id": "8fa35a02-0319-453e-9836-6ead280e5558",
   "metadata": {},
   "outputs": [],
   "source": [
    "если раньше преобладали этажи 8-20, сейчас это 4-20 (без выраженных пиков)\n"
   ]
  },
  {
   "cell_type": "code",
   "execution_count": 308,
   "id": "b583ce4e-ab25-4f1f-990f-c5406e6d252b",
   "metadata": {},
   "outputs": [
    {
     "data": {
      "text/plain": [
       "<Axes: ylabel='Frequency'>"
      ]
     },
     "execution_count": 308,
     "metadata": {},
     "output_type": "execute_result"
    },
    {
     "data": {
      "image/png": "[encoded data removed]",
      "text/plain": [
       "<Figure size 640x480 with 1 Axes>"
      ]
     },
     "metadata": {},
     "output_type": "display_data"
    }
   ],
   "source": [
    "df['full_sq'].plot(kind='hist')\n",
    "df_new['square'].plot(kind='hist')"
   ]
  },
  {
   "cell_type": "code",
   "execution_count": null,
   "id": "e6f85fac-cf9e-44ad-9f83-38fa6fd4f7de",
   "metadata": {},
   "outputs": [],
   "source": [
    "площадь кварир увеличилась, пик стал приходится на 50-90, а не на 30-80"
   ]
  },
  {
   "cell_type": "code",
   "execution_count": 309,
   "id": "da0b44b1-d28c-4378-9286-40c348879685",
   "metadata": {},
   "outputs": [
    {
     "data": {
      "text/plain": [
       "<Axes: ylabel='Frequency'>"
      ]
     },
     "execution_count": 309,
     "metadata": {},
     "output_type": "execute_result"
    },
    {
     "data": {
      "image/png": "[encoded data removed]",
      "text/plain": [
       "<Figure size 640x480 with 1 Axes>"
      ]
     },
     "metadata": {},
     "output_type": "display_data"
    }
   ],
   "source": [
    "df['price_doc'].plot(kind='hist')\n",
    "df_new['price'].plot(kind='hist')"
   ]
  },
  {
   "cell_type": "code",
   "execution_count": null,
   "id": "0b9caed1-e666-4fb1-89c3-1ad1b429d5d0",
   "metadata": {},
   "outputs": [],
   "source": [
    "цена увеличилась очень значительно"
   ]
  }
 ],
 "metadata": {
  "kernelspec": {
   "display_name": "Python 3 (ipykernel)",
   "language": "python",
   "name": "python3"
  },
  "language_info": {
   "codemirror_mode": {
    "name": "ipython",
    "version": 3
   },
   "file_extension": ".py",
   "mimetype": "text/x-python",
   "name": "python",
   "nbconvert_exporter": "python",
   "pygments_lexer": "ipython3",
   "version": "3.11.1"
  }
 },
 "nbformat": 4,
 "nbformat_minor": 5
}
